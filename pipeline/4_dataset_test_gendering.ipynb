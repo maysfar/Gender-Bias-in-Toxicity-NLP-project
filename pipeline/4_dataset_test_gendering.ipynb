{
 "cells": [
  {
   "cell_type": "code",
   "execution_count": 1,
   "metadata": {
    "colab": {
     "base_uri": "https://localhost:8080/",
     "height": 493,
     "referenced_widgets": [
      "3bcfd0c05c2b448f86904323f0695825",
      "1a86202fc18e452b872c65a33484ef74",
      "e69495ccbcf94fb9b326e2545a532a1b",
      "271bacf3a41a4a57adf64b34402fb209",
      "3b88291cf6e24d70af992b6886110d29",
      "cef711be801a4d668d2bc842801d09a6",
      "feb0d35aa64b4c2ba57e6a0f09b1ad5a",
      "969ef6ffb33d49b69e06fd503d1ddcb8",
      "0d941453ef45482eb1cadbbf7d9c47cd",
      "32d708cb59f644cc85841582a52b4c12",
      "6c3f8c02c8334f35a34c7b965e91dcd4",
      "a0ce825b35fb4e4eaac815ed84ab56c9",
      "88656ca6278347b49c3da7722d6709b7",
      "82491cbe00ac415daa4e611ff0430331",
      "3f68587d142f45b29d0671ff1d2d590e",
      "647a6ff4271b46ee970e14a753b435e3",
      "e68ad89f668c477294879cf6ead06697",
      "4463e6d537164d5a8dcf52ffd99cb3b3",
      "71f5425845ca45409575fadf0098673b",
      "8e844630b500408b813d5a8818cad04c",
      "ab1730f628404e31ba3305739bf9fbbf",
      "d3c3d38db0f74974b532bb43d8d1682f",
      "5d25418019d840e29873f803e65c7abd",
      "9e81b61da2794342a0ab00cc42026626",
      "1f18d962c4f64e08a1bdfeb63bf9916f",
      "ade2bbacfd4b4e109d0cd4cc79e4d04d",
      "8b0f132b4e8e4d13bf34b5062fa0786d",
      "d065523b03d54a6291fe3b09d4311b3c",
      "d1dbb07db3054f559719026ed2a6032e",
      "86186a34a582402aa37c8f11d41612a2",
      "b3d1b32b95bc46b3b7dc8343cda24426",
      "19b215805bd94507a490aefb34ea3220",
      "b4c41fee04fd49d990515d4f5339a573",
      "42271ace84e4432baa41ea4046fb9e22",
      "18cdd1ccb8ba40828a9de9aac2fba4f6",
      "dc3ee43a9c87441fbe206266a2faaf83",
      "13dfc8403313435c8fa9f682cb939524",
      "fb094ee59f1e4fd08f84f6e93685f3fd",
      "164fbdcc4dde4a53a1bb1dd8f5681a5a",
      "07d25441190c4cd0805832440a84a3f9",
      "1193be74c8904e39a242fc9df674eb01",
      "b7f6cf092e8a40939a28a771d13939a6",
      "d746ccf6872c46099d866c16536b8548",
      "ca5a9122bdc14fdfad1795f78bcafae6",
      "9c99b9c741e9477db9531bcbef42b2f0",
      "ef9277cba81a44089643800bcb2174b5",
      "8c525f650cde4d35ba998fecff25e6cb",
      "7065f63e22004a698d6d3ddb321fa4a9",
      "dd07888601714b5a83e923d4902ca812",
      "0a34d2866b8044a6b9f9f1d7b8a44c2e",
      "61019ae521a64952af2eba56161044ca",
      "6a8ffd9e6e124d1a830bc33103cdf66e",
      "64eb7e4b64fc40b7944e93a7596cfe5c",
      "a00664cc00b54a2ba4c4abc5e170c616",
      "8b7a90392cd842579dd1c968df7ddce0",
      "f33db5aca6074eb7841de1c656783c4d",
      "8cc990d600a84f8ba7fe5af74ff14eb2",
      "d9ecd5d1bc914b6ba8c54b769801456a",
      "5e493d4641aa45f3829877b97adeacb6",
      "30bb7b1ae8d2454b970aacd491698790",
      "98825d10ef7f4cb3813d2f30e11d3621",
      "afa0e561771b4add87cf1e2865ec7988",
      "e583ae179f2d4476872b226812e6ce33",
      "7dbdc5134a5e40048e688afa6dd0fd40",
      "3566bb28f27c4e88a717a9419780766a",
      "741f666d2d104b12bfa6b1160b2c3f55",
      "1e328601e2f545c7845e256dba5b7bd1",
      "5ef3e8efffd3474488e02625e7085472",
      "adf0d261a1484c8f8130cb474a03bef9",
      "f47a5248fe6245d38aec72c64d4bb0d2",
      "f9f4e65c82fa4dbcbf016c25215c7fa8",
      "955b307b7c6b4b3fb1ba486d36b98145",
      "c31228192f0749aaa6fb34cc5573ced8",
      "f1caf0790cd4469da6b797332b3b86b3",
      "50e34b91cb1047cfb17179e57bfdee99",
      "08dd0213c12b4068ad0ba55a20e5a382",
      "0029bab8ebfa4c8b85525fab8833afe5",
      "f5c4f8038af143d09e9d9321cd85b968",
      "1f6c15501d1e4c6da5b64c8ef5af1531",
      "cc83ba61829641018562b6d7e30f2ce7",
      "3470d2d613804634a2ef4924ec7484ec",
      "a8b33a619e084dbc9edf35f9ac670390",
      "0a8bb6b574304e12877fc9ab676fa3c7",
      "c06617ef14a44a66afdb0382cdf23544",
      "83a6797c30734fdd9327479ea47b59c3",
      "1b8e076b161d4eb5873a91d8e8c06e69",
      "7af8a8aef409495d9c922b94133e0582",
      "411077f8a6904f21a26a27cf233a379a",
      "570616d6001b4b859af8844d0219a119",
      "872bc1991d274cd69a11588341175443",
      "0045c0d1d7f644d780738160ecdee725",
      "4709f1edf97d46e391cb567e10d9d162",
      "2ae6aa7f1bcb43c0847d6f223b1ef654",
      "8fa2bcb015b24f6c82c4e19638e79eeb",
      "6409a80dddc94b52b0d08f91d071b19b",
      "82361b94f3da4e7f9285cbd5db5e581d",
      "a5ff62a9496b48b2922f121321167cab",
      "76954a1f21da46ffa9826af9da090ab4",
      "e27590c4679848ff9c0189490ef114ed",
      "53179884d54b414cbf4c3770e7bf601d",
      "76f5155a38a546ba81ea1cb90becc86e",
      "e468ed838bee4c03a09411b46dff7be6",
      "4a7e83486b17423b800ff6b9c684a10c",
      "b74fdfcceb6a4a55bbb23a28188bec49",
      "494316560b4f47d48b67aed6462758fe",
      "7492701ef6f5460c8c93ba1c69199d4d",
      "efa19789f4da4599a531aa949b124c75",
      "54f2d030c6444ad7946aa9a28cef9996",
      "d70453ebc9374dfba21ba6a5b1e79c92",
      "638b8cd0bf374834953003c86374119c"
     ]
    },
    "id": "IHTeVLYa73M1",
    "outputId": "a3315640-b27a-4ffa-968b-1955f9cdf5ed"
   },
   "outputs": [
    {
     "name": "stderr",
     "output_type": "stream",
     "text": [
      "/usr/local/lib/python3.12/dist-packages/huggingface_hub/utils/_auth.py:94: UserWarning: \n",
      "The secret `HF_TOKEN` does not exist in your Colab secrets.\n",
      "To authenticate with the Hugging Face Hub, create a token in your settings tab (https://huggingface.co/settings/tokens), set it as secret in your Google Colab and restart your session.\n",
      "You will be able to reuse this secret in all of your notebooks.\n",
      "Please note that authentication is recommended but still optional to access public models or datasets.\n",
      "  warnings.warn(\n"
     ]
    },
    {
     "data": {
      "application/vnd.jupyter.widget-view+json": {
       "model_id": "3bcfd0c05c2b448f86904323f0695825",
       "version_major": 2,
       "version_minor": 0
      },
      "text/plain": [
       "README.md:   0%|          | 0.00/386 [00:00<?, ?B/s]"
      ]
     },
     "metadata": {},
     "output_type": "display_data"
    },
    {
     "data": {
      "application/vnd.jupyter.widget-view+json": {
       "model_id": "a0ce825b35fb4e4eaac815ed84ab56c9",
       "version_major": 2,
       "version_minor": 0
      },
      "text/plain": [
       "data/train-00000-of-00001.parquet:   0%|          | 0.00/20.0M [00:00<?, ?B/s]"
      ]
     },
     "metadata": {},
     "output_type": "display_data"
    },
    {
     "data": {
      "application/vnd.jupyter.widget-view+json": {
       "model_id": "5d25418019d840e29873f803e65c7abd",
       "version_major": 2,
       "version_minor": 0
      },
      "text/plain": [
       "Generating train split:   0%|          | 0/96844 [00:00<?, ? examples/s]"
      ]
     },
     "metadata": {},
     "output_type": "display_data"
    },
    {
     "data": {
      "application/vnd.jupyter.widget-view+json": {
       "model_id": "42271ace84e4432baa41ea4046fb9e22",
       "version_major": 2,
       "version_minor": 0
      },
      "text/plain": [
       "config.json:   0%|          | 0.00/886 [00:00<?, ?B/s]"
      ]
     },
     "metadata": {},
     "output_type": "display_data"
    },
    {
     "data": {
      "application/vnd.jupyter.widget-view+json": {
       "model_id": "9c99b9c741e9477db9531bcbef42b2f0",
       "version_major": 2,
       "version_minor": 0
      },
      "text/plain": [
       "model.safetensors:   0%|          | 0.00/738M [00:00<?, ?B/s]"
      ]
     },
     "metadata": {},
     "output_type": "display_data"
    },
    {
     "data": {
      "application/vnd.jupyter.widget-view+json": {
       "model_id": "f33db5aca6074eb7841de1c656783c4d",
       "version_major": 2,
       "version_minor": 0
      },
      "text/plain": [
       "tokenizer_config.json: 0.00B [00:00, ?B/s]"
      ]
     },
     "metadata": {},
     "output_type": "display_data"
    },
    {
     "data": {
      "application/vnd.jupyter.widget-view+json": {
       "model_id": "1e328601e2f545c7845e256dba5b7bd1",
       "version_major": 2,
       "version_minor": 0
      },
      "text/plain": [
       "spm.model:   0%|          | 0.00/2.46M [00:00<?, ?B/s]"
      ]
     },
     "metadata": {},
     "output_type": "display_data"
    },
    {
     "data": {
      "application/vnd.jupyter.widget-view+json": {
       "model_id": "f5c4f8038af143d09e9d9321cd85b968",
       "version_major": 2,
       "version_minor": 0
      },
      "text/plain": [
       "tokenizer.json: 0.00B [00:00, ?B/s]"
      ]
     },
     "metadata": {},
     "output_type": "display_data"
    },
    {
     "data": {
      "application/vnd.jupyter.widget-view+json": {
       "model_id": "570616d6001b4b859af8844d0219a119",
       "version_major": 2,
       "version_minor": 0
      },
      "text/plain": [
       "added_tokens.json:   0%|          | 0.00/23.0 [00:00<?, ?B/s]"
      ]
     },
     "metadata": {},
     "output_type": "display_data"
    },
    {
     "data": {
      "application/vnd.jupyter.widget-view+json": {
       "model_id": "53179884d54b414cbf4c3770e7bf601d",
       "version_major": 2,
       "version_minor": 0
      },
      "text/plain": [
       "special_tokens_map.json:   0%|          | 0.00/286 [00:00<?, ?B/s]"
      ]
     },
     "metadata": {},
     "output_type": "display_data"
    },
    {
     "name": "stderr",
     "output_type": "stream",
     "text": [
      "Device set to use cuda:0\n",
      " 59%|█████▉    | 10/17 [00:04<00:02,  3.05it/s]You seem to be using the pipelines sequentially on GPU. In order to maximize efficiency please use a dataset\n",
      "100%|██████████| 17/17 [00:06<00:00,  2.77it/s]\n"
     ]
    }
   ],
   "source": [
    "from transformers import pipeline\n",
    "import pandas as pd\n",
    "from tqdm import tqdm\n",
    "from datasets import load_dataset\n",
    "\n",
    "# Input\n",
    "dataset = load_dataset(\"moatazhamza194/gb_test\")\n",
    "data = dataset[\"train\"].to_pandas()\n",
    "\n",
    "# Load classifier\n",
    "classifier = pipeline(\n",
    "    \"text-classification\",\n",
    "    model=\"moatazhamza194/gender_classification-deberta\",\n",
    "    tokenizer=\"moatazhamza194/gender_classification-deberta\",\n",
    ")\n",
    "\n",
    "# Initialize gender column as neutral\n",
    "data[\"gender\"] = \"neutral\"\n",
    "\n",
    "# --- Rule-based logic ---\n",
    "def assign_gender(row):\n",
    "    male_val = row[\"male\"]\n",
    "    female_val = row[\"female\"]\n",
    "\n",
    "    # Case 1: Female strong\n",
    "    if female_val >= 0.5 and male_val < 0.5:\n",
    "        return \"female\"\n",
    "\n",
    "    # Case 2: Male strong\n",
    "    elif male_val >= 0.5 and female_val < 0.5:\n",
    "        return \"male\"\n",
    "\n",
    "    # Case 3: Neutral\n",
    "    elif male_val == 0 and female_val == 0:\n",
    "        return \"neutral\"\n",
    "\n",
    "    # Case 4 & 5: Ambiguous cases -> return None for model classification\n",
    "    elif (0 < female_val < 0.5 and 0 < male_val < 0.5) or (female_val > 0.5 and male_val > 0.5):\n",
    "        return None\n",
    "\n",
    "    # Fallback (just in case)\n",
    "    return \"neutral\"\n",
    "\n",
    "# Apply rule-based logic\n",
    "data[\"gender\"] = data.apply(assign_gender, axis=1)\n",
    "\n",
    "# --- Model for ambiguous cases ---\n",
    "ambiguous_mask = data[\"gender\"].isna()\n",
    "texts_to_classify = data.loc[ambiguous_mask, \"comment\"]\n",
    "\n",
    "batch_size = 64\n",
    "results = []\n",
    "\n",
    "for i in tqdm(range(0, len(texts_to_classify), batch_size)):\n",
    "    batch_texts = texts_to_classify.iloc[i:i+batch_size].tolist()\n",
    "    preds = classifier(batch_texts, truncation=True, max_length=512, batch_size=batch_size)\n",
    "\n",
    "    for pred in preds:\n",
    "        pred_id = int(pred[\"label\"].split(\"_\")[-1])\n",
    "        results.append(\"male\" if pred_id == 1 else \"female\")\n",
    "\n",
    "# Fill in ambiguous cases with model results\n",
    "data.loc[ambiguous_mask, \"gender\"] = results\n",
    "\n",
    "# Drop old columns\n",
    "data = data.drop(columns=[\"male\", \"female\"])"
   ]
  },
  {
   "cell_type": "code",
   "execution_count": 2,
   "metadata": {
    "colab": {
     "base_uri": "https://localhost:8080/",
     "height": 206
    },
    "id": "94rD8jsF9tSf",
    "outputId": "4fccd270-ef31-4d9d-996c-818ebefb10fb"
   },
   "outputs": [
    {
     "data": {
      "application/vnd.google.colaboratory.intrinsic+json": {
       "summary": "{\n  \"name\": \"data\",\n  \"rows\": 5,\n  \"fields\": [\n    {\n      \"column\": \"comment\",\n      \"properties\": {\n        \"dtype\": \"string\",\n        \"num_unique_values\": 5,\n        \"samples\": [\n          \"Obviously the party-fixers, the money-bags guys, the backroom boys, the old guard all preferred the manipulable marionette Scheer over loose-cannon playboy Bernaise, and they took the necessary steps.\",\n          \"Sounds more like the Antifascists are the real fascists...hey Antifa, have you suppressed opposing speech yet today? Attacked those you disagree with? Burned any buildings or cars?Those fools are so stupid they actually think they are espousing Americans traits... Definition of fascism 1 often capitalized : a political philosophy, movement, or regime (such as that of the Fascisti) that exalts nation and often race above the individual and that stands for a centralized autocratic government headed by a dictatorial leader, severe economic and social regimentation, and forcible suppression of opposition\",\n          \"Very similar to many ADN postings, yes?\"\n        ],\n        \"semantic_type\": \"\",\n        \"description\": \"\"\n      }\n    },\n    {\n      \"column\": \"label\",\n      \"properties\": {\n        \"dtype\": \"number\",\n        \"std\": 0.24406478060786585,\n        \"min\": 0.0,\n        \"max\": 0.647887323943662,\n        \"num_unique_values\": 5,\n        \"samples\": [\n          0.2,\n          0.647887323943662,\n          0.0\n        ],\n        \"semantic_type\": \"\",\n        \"description\": \"\"\n      }\n    },\n    {\n      \"column\": \"gender\",\n      \"properties\": {\n        \"dtype\": \"category\",\n        \"num_unique_values\": 1,\n        \"samples\": [\n          \"neutral\"\n        ],\n        \"semantic_type\": \"\",\n        \"description\": \"\"\n      }\n    }\n  ]\n}",
       "type": "dataframe"
      },
      "text/html": [
       "\n",
       "  <div id=\"df-c72b2e2a-c49f-418a-acc0-ceebe91f5cb9\" class=\"colab-df-container\">\n",
       "    <div>\n",
       "<style scoped>\n",
       "    .dataframe tbody tr th:only-of-type {\n",
       "        vertical-align: middle;\n",
       "    }\n",
       "\n",
       "    .dataframe tbody tr th {\n",
       "        vertical-align: top;\n",
       "    }\n",
       "\n",
       "    .dataframe thead th {\n",
       "        text-align: right;\n",
       "    }\n",
       "</style>\n",
       "<table border=\"1\" class=\"dataframe\">\n",
       "  <thead>\n",
       "    <tr style=\"text-align: right;\">\n",
       "      <th></th>\n",
       "      <th>comment</th>\n",
       "      <th>label</th>\n",
       "      <th>gender</th>\n",
       "    </tr>\n",
       "  </thead>\n",
       "  <tbody>\n",
       "    <tr>\n",
       "      <th>18278</th>\n",
       "      <td>Sodomites Doom Nations</td>\n",
       "      <td>0.213115</td>\n",
       "      <td>neutral</td>\n",
       "    </tr>\n",
       "    <tr>\n",
       "      <th>65909</th>\n",
       "      <td>Obviously the party-fixers, the money-bags guy...</td>\n",
       "      <td>0.200000</td>\n",
       "      <td>neutral</td>\n",
       "    </tr>\n",
       "    <tr>\n",
       "      <th>53502</th>\n",
       "      <td>Very similar to many ADN postings, yes?</td>\n",
       "      <td>0.000000</td>\n",
       "      <td>neutral</td>\n",
       "    </tr>\n",
       "    <tr>\n",
       "      <th>80960</th>\n",
       "      <td>What about the white cop in San Antonio execut...</td>\n",
       "      <td>0.400000</td>\n",
       "      <td>neutral</td>\n",
       "    </tr>\n",
       "    <tr>\n",
       "      <th>224</th>\n",
       "      <td>Sounds more like the Antifascists are the real...</td>\n",
       "      <td>0.647887</td>\n",
       "      <td>neutral</td>\n",
       "    </tr>\n",
       "  </tbody>\n",
       "</table>\n",
       "</div>\n",
       "    <div class=\"colab-df-buttons\">\n",
       "\n",
       "  <div class=\"colab-df-container\">\n",
       "    <button class=\"colab-df-convert\" onclick=\"convertToInteractive('df-c72b2e2a-c49f-418a-acc0-ceebe91f5cb9')\"\n",
       "            title=\"Convert this dataframe to an interactive table.\"\n",
       "            style=\"display:none;\">\n",
       "\n",
       "  <svg xmlns=\"http://www.w3.org/2000/svg\" height=\"24px\" viewBox=\"0 -960 960 960\">\n",
       "    <path d=\"M120-120v-720h720v720H120Zm60-500h600v-160H180v160Zm220 220h160v-160H400v160Zm0 220h160v-160H400v160ZM180-400h160v-160H180v160Zm440 0h160v-160H620v160ZM180-180h160v-160H180v160Zm440 0h160v-160H620v160Z\"/>\n",
       "  </svg>\n",
       "    </button>\n",
       "\n",
       "  <style>\n",
       "    .colab-df-container {\n",
       "      display:flex;\n",
       "      gap: 12px;\n",
       "    }\n",
       "\n",
       "    .colab-df-convert {\n",
       "      background-color: #E8F0FE;\n",
       "      border: none;\n",
       "      border-radius: 50%;\n",
       "      cursor: pointer;\n",
       "      display: none;\n",
       "      fill: #1967D2;\n",
       "      height: 32px;\n",
       "      padding: 0 0 0 0;\n",
       "      width: 32px;\n",
       "    }\n",
       "\n",
       "    .colab-df-convert:hover {\n",
       "      background-color: #E2EBFA;\n",
       "      box-shadow: 0px 1px 2px rgba(60, 64, 67, 0.3), 0px 1px 3px 1px rgba(60, 64, 67, 0.15);\n",
       "      fill: #174EA6;\n",
       "    }\n",
       "\n",
       "    .colab-df-buttons div {\n",
       "      margin-bottom: 4px;\n",
       "    }\n",
       "\n",
       "    [theme=dark] .colab-df-convert {\n",
       "      background-color: #3B4455;\n",
       "      fill: #D2E3FC;\n",
       "    }\n",
       "\n",
       "    [theme=dark] .colab-df-convert:hover {\n",
       "      background-color: #434B5C;\n",
       "      box-shadow: 0px 1px 3px 1px rgba(0, 0, 0, 0.15);\n",
       "      filter: drop-shadow(0px 1px 2px rgba(0, 0, 0, 0.3));\n",
       "      fill: #FFFFFF;\n",
       "    }\n",
       "  </style>\n",
       "\n",
       "    <script>\n",
       "      const buttonEl =\n",
       "        document.querySelector('#df-c72b2e2a-c49f-418a-acc0-ceebe91f5cb9 button.colab-df-convert');\n",
       "      buttonEl.style.display =\n",
       "        google.colab.kernel.accessAllowed ? 'block' : 'none';\n",
       "\n",
       "      async function convertToInteractive(key) {\n",
       "        const element = document.querySelector('#df-c72b2e2a-c49f-418a-acc0-ceebe91f5cb9');\n",
       "        const dataTable =\n",
       "          await google.colab.kernel.invokeFunction('convertToInteractive',\n",
       "                                                    [key], {});\n",
       "        if (!dataTable) return;\n",
       "\n",
       "        const docLinkHtml = 'Like what you see? Visit the ' +\n",
       "          '<a target=\"_blank\" href=https://colab.research.google.com/notebooks/data_table.ipynb>data table notebook</a>'\n",
       "          + ' to learn more about interactive tables.';\n",
       "        element.innerHTML = '';\n",
       "        dataTable['output_type'] = 'display_data';\n",
       "        await google.colab.output.renderOutput(dataTable, element);\n",
       "        const docLink = document.createElement('div');\n",
       "        docLink.innerHTML = docLinkHtml;\n",
       "        element.appendChild(docLink);\n",
       "      }\n",
       "    </script>\n",
       "  </div>\n",
       "\n",
       "\n",
       "    <div id=\"df-0062c023-6c16-456d-9147-641f5cfdca3a\">\n",
       "      <button class=\"colab-df-quickchart\" onclick=\"quickchart('df-0062c023-6c16-456d-9147-641f5cfdca3a')\"\n",
       "                title=\"Suggest charts\"\n",
       "                style=\"display:none;\">\n",
       "\n",
       "<svg xmlns=\"http://www.w3.org/2000/svg\" height=\"24px\"viewBox=\"0 0 24 24\"\n",
       "     width=\"24px\">\n",
       "    <g>\n",
       "        <path d=\"M19 3H5c-1.1 0-2 .9-2 2v14c0 1.1.9 2 2 2h14c1.1 0 2-.9 2-2V5c0-1.1-.9-2-2-2zM9 17H7v-7h2v7zm4 0h-2V7h2v10zm4 0h-2v-4h2v4z\"/>\n",
       "    </g>\n",
       "</svg>\n",
       "      </button>\n",
       "\n",
       "<style>\n",
       "  .colab-df-quickchart {\n",
       "      --bg-color: #E8F0FE;\n",
       "      --fill-color: #1967D2;\n",
       "      --hover-bg-color: #E2EBFA;\n",
       "      --hover-fill-color: #174EA6;\n",
       "      --disabled-fill-color: #AAA;\n",
       "      --disabled-bg-color: #DDD;\n",
       "  }\n",
       "\n",
       "  [theme=dark] .colab-df-quickchart {\n",
       "      --bg-color: #3B4455;\n",
       "      --fill-color: #D2E3FC;\n",
       "      --hover-bg-color: #434B5C;\n",
       "      --hover-fill-color: #FFFFFF;\n",
       "      --disabled-bg-color: #3B4455;\n",
       "      --disabled-fill-color: #666;\n",
       "  }\n",
       "\n",
       "  .colab-df-quickchart {\n",
       "    background-color: var(--bg-color);\n",
       "    border: none;\n",
       "    border-radius: 50%;\n",
       "    cursor: pointer;\n",
       "    display: none;\n",
       "    fill: var(--fill-color);\n",
       "    height: 32px;\n",
       "    padding: 0;\n",
       "    width: 32px;\n",
       "  }\n",
       "\n",
       "  .colab-df-quickchart:hover {\n",
       "    background-color: var(--hover-bg-color);\n",
       "    box-shadow: 0 1px 2px rgba(60, 64, 67, 0.3), 0 1px 3px 1px rgba(60, 64, 67, 0.15);\n",
       "    fill: var(--button-hover-fill-color);\n",
       "  }\n",
       "\n",
       "  .colab-df-quickchart-complete:disabled,\n",
       "  .colab-df-quickchart-complete:disabled:hover {\n",
       "    background-color: var(--disabled-bg-color);\n",
       "    fill: var(--disabled-fill-color);\n",
       "    box-shadow: none;\n",
       "  }\n",
       "\n",
       "  .colab-df-spinner {\n",
       "    border: 2px solid var(--fill-color);\n",
       "    border-color: transparent;\n",
       "    border-bottom-color: var(--fill-color);\n",
       "    animation:\n",
       "      spin 1s steps(1) infinite;\n",
       "  }\n",
       "\n",
       "  @keyframes spin {\n",
       "    0% {\n",
       "      border-color: transparent;\n",
       "      border-bottom-color: var(--fill-color);\n",
       "      border-left-color: var(--fill-color);\n",
       "    }\n",
       "    20% {\n",
       "      border-color: transparent;\n",
       "      border-left-color: var(--fill-color);\n",
       "      border-top-color: var(--fill-color);\n",
       "    }\n",
       "    30% {\n",
       "      border-color: transparent;\n",
       "      border-left-color: var(--fill-color);\n",
       "      border-top-color: var(--fill-color);\n",
       "      border-right-color: var(--fill-color);\n",
       "    }\n",
       "    40% {\n",
       "      border-color: transparent;\n",
       "      border-right-color: var(--fill-color);\n",
       "      border-top-color: var(--fill-color);\n",
       "    }\n",
       "    60% {\n",
       "      border-color: transparent;\n",
       "      border-right-color: var(--fill-color);\n",
       "    }\n",
       "    80% {\n",
       "      border-color: transparent;\n",
       "      border-right-color: var(--fill-color);\n",
       "      border-bottom-color: var(--fill-color);\n",
       "    }\n",
       "    90% {\n",
       "      border-color: transparent;\n",
       "      border-bottom-color: var(--fill-color);\n",
       "    }\n",
       "  }\n",
       "</style>\n",
       "\n",
       "      <script>\n",
       "        async function quickchart(key) {\n",
       "          const quickchartButtonEl =\n",
       "            document.querySelector('#' + key + ' button');\n",
       "          quickchartButtonEl.disabled = true;  // To prevent multiple clicks.\n",
       "          quickchartButtonEl.classList.add('colab-df-spinner');\n",
       "          try {\n",
       "            const charts = await google.colab.kernel.invokeFunction(\n",
       "                'suggestCharts', [key], {});\n",
       "          } catch (error) {\n",
       "            console.error('Error during call to suggestCharts:', error);\n",
       "          }\n",
       "          quickchartButtonEl.classList.remove('colab-df-spinner');\n",
       "          quickchartButtonEl.classList.add('colab-df-quickchart-complete');\n",
       "        }\n",
       "        (() => {\n",
       "          let quickchartButtonEl =\n",
       "            document.querySelector('#df-0062c023-6c16-456d-9147-641f5cfdca3a button');\n",
       "          quickchartButtonEl.style.display =\n",
       "            google.colab.kernel.accessAllowed ? 'block' : 'none';\n",
       "        })();\n",
       "      </script>\n",
       "    </div>\n",
       "\n",
       "    </div>\n",
       "  </div>\n"
      ],
      "text/plain": [
       "                                                 comment     label   gender\n",
       "18278                             Sodomites Doom Nations  0.213115  neutral\n",
       "65909  Obviously the party-fixers, the money-bags guy...  0.200000  neutral\n",
       "53502            Very similar to many ADN postings, yes?  0.000000  neutral\n",
       "80960  What about the white cop in San Antonio execut...  0.400000  neutral\n",
       "224    Sounds more like the Antifascists are the real...  0.647887  neutral"
      ]
     },
     "execution_count": 2,
     "metadata": {},
     "output_type": "execute_result"
    }
   ],
   "source": [
    "data.sample(5)"
   ]
  },
  {
   "cell_type": "code",
   "execution_count": 3,
   "metadata": {
    "colab": {
     "base_uri": "https://localhost:8080/"
    },
    "id": "igPeNGmh-pQK",
    "outputId": "3d3f3a73-a33b-4795-b08a-2273f6207140"
   },
   "outputs": [
    {
     "data": {
      "text/plain": [
       "96844"
      ]
     },
     "execution_count": 3,
     "metadata": {},
     "output_type": "execute_result"
    }
   ],
   "source": [
    "len(data)"
   ]
  },
  {
   "cell_type": "code",
   "execution_count": 4,
   "metadata": {
    "id": "co0qUMsm-rs_"
   },
   "outputs": [],
   "source": [
    "from datasets import Dataset\n",
    "dataset = Dataset.from_pandas(data)"
   ]
  },
  {
   "cell_type": "code",
   "execution_count": 5,
   "metadata": {
    "colab": {
     "base_uri": "https://localhost:8080/"
    },
    "id": "Qs3fS_mG-36w",
    "outputId": "23ed1bc5-ad51-4b6f-e669-601cc75cf559"
   },
   "outputs": [
    {
     "name": "stdout",
     "output_type": "stream",
     "text": [
      "\u001b[33m⚠️  Warning: 'huggingface-cli login' is deprecated. Use 'hf auth login' instead.\u001b[0m\n",
      "\n",
      "    _|    _|  _|    _|    _|_|_|    _|_|_|  _|_|_|  _|      _|    _|_|_|      _|_|_|_|    _|_|      _|_|_|  _|_|_|_|\n",
      "    _|    _|  _|    _|  _|        _|          _|    _|_|    _|  _|            _|        _|    _|  _|        _|\n",
      "    _|_|_|_|  _|    _|  _|  _|_|  _|  _|_|    _|    _|  _|  _|  _|  _|_|      _|_|_|    _|_|_|_|  _|        _|_|_|\n",
      "    _|    _|  _|    _|  _|    _|  _|    _|    _|    _|    _|_|  _|    _|      _|        _|    _|  _|        _|\n",
      "    _|    _|    _|_|      _|_|_|    _|_|_|  _|_|_|  _|      _|    _|_|_|      _|        _|    _|    _|_|_|  _|_|_|_|\n",
      "\n",
      "    To log in, `huggingface_hub` requires a token generated from https://huggingface.co/settings/tokens .\n",
      "Enter your token (input will not be visible): \n",
      "Add token as git credential? (Y/n) Y\n",
      "Token is valid (permission: write).\n",
      "The token `new` has been saved to /root/.cache/huggingface/stored_tokens\n",
      "\u001b[1m\u001b[31mCannot authenticate through git-credential as no helper is defined on your machine.\n",
      "You might have to re-authenticate when pushing to the Hugging Face Hub.\n",
      "Run the following command in your terminal in case you want to set the 'store' credential helper as default.\n",
      "\n",
      "git config --global credential.helper store\n",
      "\n",
      "Read https://git-scm.com/book/en/v2/Git-Tools-Credential-Storage for more details.\u001b[0m\n",
      "Token has not been saved to git credential helper.\n",
      "Your token has been saved to /root/.cache/huggingface/token\n",
      "Login successful.\n",
      "The current active token is: `new`\n"
     ]
    }
   ],
   "source": [
    "!huggingface-cli login"
   ]
  },
  {
   "cell_type": "code",
   "execution_count": 6,
   "metadata": {
    "colab": {
     "base_uri": "https://localhost:8080/",
     "height": 229,
     "referenced_widgets": [
      "0e360e3adccc4d9fbd93f1c323c46a87",
      "e720e5a01fa64770b70926b4f61cd35d",
      "a9a4f991017d49f8bcbb808494f27025",
      "c0993b7a127d483d9d42315876d88397",
      "4cc227d7632f44dca9cea33adf273fc3",
      "e58068f7f36e49698a6181705955cdc2",
      "acf6cd25532344b281f4b27673f3a1a3",
      "d02009135b3f43f3be583f3c5518e399",
      "fdc6882fd39141b49f104c8434b5f918",
      "306b7c6596da4839a82932dceed9716b",
      "f50dd42db7e444b0933244dacdf56967",
      "7b6bb1bfd194457394f3263edb1b7a64",
      "20d0b243f41e4fb186e6ab5b1e65f316",
      "c448f672c2e04b3681eb6f3012545f8a",
      "13398695d9ab4635a285808a3dadf4ac",
      "f3b03a66f6294283824bf3c11af2253c",
      "acb5687744cf4e448935f4c9ddde1a6a",
      "ea830750a5e34c908ed086dd43022f75",
      "12b666009927437ea7da5ad85801d621",
      "6d0b76541cb34d538b267377de44964b",
      "7b99ae19cc8445e9a1fb2ad332f32356",
      "f468d382392a4650b5720ff7635f6db1",
      "3c99a873f780434c826854c66f482ae4",
      "39a183079f0345fd82ee20cc59af9da5",
      "09d0a90968c648a4af5381be0b452995",
      "1db3742828a042e285941641ca03d59e",
      "29748ac1e08c4dae94e8ead91597892e",
      "b4299c13daaf4603836f859b402b44f3",
      "7c29d9dcb6934cc085af8953cb163722",
      "a043326536de4b9e9922c59ab6e331cf",
      "c89ca459609c4a1f96c275410c658ae5",
      "8b3be8caf3bf4752a0c0649cc942d1a1",
      "365e672961e44d3fb65b87d5bedfa136",
      "5dd28d1605f94775b003f4395ef77850",
      "7aade4276d1c4bb6a57ef90e430849a0",
      "bd88b92183064f2d904a1fafc59e36ab",
      "6bf18d6915ef4d0c95ce0fa879dbf5bc",
      "364ad8d7dac54307b84e08623928b29b",
      "0c754e20a6ad474c93680db013f81d18",
      "01ae44997c574b25898e052b23994e9b",
      "0a9c06cf831547fd8f5580b5ea20bb23",
      "36c13a6be54540318ca9250ed9fc5a80",
      "94243ab81b0143c3886de1bfddb92c54",
      "41759f2a052a4e958c0361df3616a197",
      "5dbd093dd6ea48e1b830e6eb978acdff",
      "23a113d8f908472795966eb9fe34e0e7",
      "02d66d48bc964f8b823f0f194ca0f939",
      "dbe346fe6dd041e299f6f4b8c8eced7b",
      "ddf0b92be4bc4c18b4653a3a671013e0",
      "429a75a5328a45719b8166eb48396151",
      "8fc79419f5f74fbd9bbf5821c3b95c9c",
      "96045a90b88a4dfba485950d94823084",
      "49a1a069f18c488396bdc1d41c25c069",
      "70037fa6558f4e6a883d84fbf20579d8",
      "e54d729bb65c4212bc5a7287301a1435"
     ]
    },
    "id": "lii4QnR7-6JY",
    "outputId": "f56cf522-6ce6-49d2-8130-7f6f16c77c56"
   },
   "outputs": [
    {
     "data": {
      "application/vnd.jupyter.widget-view+json": {
       "model_id": "0e360e3adccc4d9fbd93f1c323c46a87",
       "version_major": 2,
       "version_minor": 0
      },
      "text/plain": [
       "Uploading the dataset shards:   0%|          | 0/1 [00:00<?, ? shards/s]"
      ]
     },
     "metadata": {},
     "output_type": "display_data"
    },
    {
     "data": {
      "application/vnd.jupyter.widget-view+json": {
       "model_id": "7b6bb1bfd194457394f3263edb1b7a64",
       "version_major": 2,
       "version_minor": 0
      },
      "text/plain": [
       "Creating parquet from Arrow format:   0%|          | 0/97 [00:00<?, ?ba/s]"
      ]
     },
     "metadata": {},
     "output_type": "display_data"
    },
    {
     "data": {
      "application/vnd.jupyter.widget-view+json": {
       "model_id": "3c99a873f780434c826854c66f482ae4",
       "version_major": 2,
       "version_minor": 0
      },
      "text/plain": [
       "Processing Files (0 / 0)      : |          |  0.00B /  0.00B            "
      ]
     },
     "metadata": {},
     "output_type": "display_data"
    },
    {
     "data": {
      "application/vnd.jupyter.widget-view+json": {
       "model_id": "5dd28d1605f94775b003f4395ef77850",
       "version_major": 2,
       "version_minor": 0
      },
      "text/plain": [
       "New Data Upload               : |          |  0.00B /  0.00B            "
      ]
     },
     "metadata": {},
     "output_type": "display_data"
    },
    {
     "data": {
      "application/vnd.jupyter.widget-view+json": {
       "model_id": "5dbd093dd6ea48e1b830e6eb978acdff",
       "version_major": 2,
       "version_minor": 0
      },
      "text/plain": [
       "                              :  44%|####3     | 8.68MB / 19.9MB            "
      ]
     },
     "metadata": {},
     "output_type": "display_data"
    },
    {
     "data": {
      "application/vnd.google.colaboratory.intrinsic+json": {
       "type": "string"
      },
      "text/plain": [
       "CommitInfo(commit_url='https://huggingface.co/datasets/moatazhamza194/gb_test_gendered/commit/7b5a1435c6452979138bab42de90b53faf3c4e4f', commit_message='Upload dataset', commit_description='', oid='7b5a1435c6452979138bab42de90b53faf3c4e4f', pr_url=None, repo_url=RepoUrl('https://huggingface.co/datasets/moatazhamza194/gb_test_gendered', endpoint='https://huggingface.co', repo_type='dataset', repo_id='moatazhamza194/gb_test_gendered'), pr_revision=None, pr_num=None)"
      ]
     },
     "execution_count": 6,
     "metadata": {},
     "output_type": "execute_result"
    }
   ],
   "source": [
    "dataset.push_to_hub(\"moatazhamza194/gb_test_gendered\")"
   ]
  },
  {
   "cell_type": "code",
   "execution_count": 7,
   "metadata": {
    "colab": {
     "base_uri": "https://localhost:8080/",
     "height": 178
    },
    "id": "7LTfXkl6_ilY",
    "outputId": "272c525a-55ce-408c-dfc0-f289f5f68a11"
   },
   "outputs": [
    {
     "data": {
      "text/html": [
       "<div>\n",
       "<style scoped>\n",
       "    .dataframe tbody tr th:only-of-type {\n",
       "        vertical-align: middle;\n",
       "    }\n",
       "\n",
       "    .dataframe tbody tr th {\n",
       "        vertical-align: top;\n",
       "    }\n",
       "\n",
       "    .dataframe thead th {\n",
       "        text-align: right;\n",
       "    }\n",
       "</style>\n",
       "<table border=\"1\" class=\"dataframe\">\n",
       "  <thead>\n",
       "    <tr style=\"text-align: right;\">\n",
       "      <th></th>\n",
       "      <th>0</th>\n",
       "    </tr>\n",
       "  </thead>\n",
       "  <tbody>\n",
       "    <tr>\n",
       "      <th>comment</th>\n",
       "      <td>1914</td>\n",
       "    </tr>\n",
       "    <tr>\n",
       "      <th>label</th>\n",
       "      <td>1914</td>\n",
       "    </tr>\n",
       "    <tr>\n",
       "      <th>gender</th>\n",
       "      <td>1914</td>\n",
       "    </tr>\n",
       "  </tbody>\n",
       "</table>\n",
       "</div><br><label><b>dtype:</b> int64</label>"
      ],
      "text/plain": [
       "comment    1914\n",
       "label      1914\n",
       "gender     1914\n",
       "dtype: int64"
      ]
     },
     "execution_count": 7,
     "metadata": {},
     "output_type": "execute_result"
    }
   ],
   "source": [
    "data[data[\"gender\"] == \"male\"].count()"
   ]
  },
  {
   "cell_type": "code",
   "execution_count": 8,
   "metadata": {
    "colab": {
     "base_uri": "https://localhost:8080/",
     "height": 178
    },
    "id": "m3g-n3vp_-N9",
    "outputId": "735e8cfa-511d-4a5d-c68c-317ecf8667b2"
   },
   "outputs": [
    {
     "data": {
      "text/html": [
       "<div>\n",
       "<style scoped>\n",
       "    .dataframe tbody tr th:only-of-type {\n",
       "        vertical-align: middle;\n",
       "    }\n",
       "\n",
       "    .dataframe tbody tr th {\n",
       "        vertical-align: top;\n",
       "    }\n",
       "\n",
       "    .dataframe thead th {\n",
       "        text-align: right;\n",
       "    }\n",
       "</style>\n",
       "<table border=\"1\" class=\"dataframe\">\n",
       "  <thead>\n",
       "    <tr style=\"text-align: right;\">\n",
       "      <th></th>\n",
       "      <th>0</th>\n",
       "    </tr>\n",
       "  </thead>\n",
       "  <tbody>\n",
       "    <tr>\n",
       "      <th>comment</th>\n",
       "      <td>2140</td>\n",
       "    </tr>\n",
       "    <tr>\n",
       "      <th>label</th>\n",
       "      <td>2140</td>\n",
       "    </tr>\n",
       "    <tr>\n",
       "      <th>gender</th>\n",
       "      <td>2140</td>\n",
       "    </tr>\n",
       "  </tbody>\n",
       "</table>\n",
       "</div><br><label><b>dtype:</b> int64</label>"
      ],
      "text/plain": [
       "comment    2140\n",
       "label      2140\n",
       "gender     2140\n",
       "dtype: int64"
      ]
     },
     "execution_count": 8,
     "metadata": {},
     "output_type": "execute_result"
    }
   ],
   "source": [
    "data[data[\"gender\"] == \"female\"].count()"
   ]
  }
 ],
 "metadata": {
  "accelerator": "GPU",
  "colab": {
   "gpuType": "A100",
   "provenance": []
  },
  "kernelspec": {
   "display_name": "Python 3",
   "name": "python3"
  },
  "language_info": {
   "name": "python"
  }
 },
 "nbformat": 4,
 "nbformat_minor": 0
}
