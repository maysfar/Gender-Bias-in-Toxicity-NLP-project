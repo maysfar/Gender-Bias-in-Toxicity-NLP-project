{
 "cells": [
  {
   "cell_type": "code",
   "execution_count": 1,
   "metadata": {
    "colab": {
     "base_uri": "https://localhost:8080/",
     "height": 269,
     "referenced_widgets": [
      "a7ba42f659c940b1a9e673213426d5ff",
      "e91d8de421f14cb3b01be9b4ed690b5b",
      "d4782cd6da294ac1aafe323f0ef9e358",
      "59a4315329ca45f49e8dbf7e46a5ad60",
      "32d3603c285f4066b4be192b0c1621a1",
      "191539cd17814356a13af1212467ef12",
      "5f2976fcb30a43c2b0216ed56b7a0769",
      "b2d50a9fbf534dfba162150ecf6f17ce",
      "2590bf4e74db480fadff242c6133a020",
      "481516f0da1b4e16b6227c5a0b9f51c0",
      "e8ee5a50b1544b43aeb4519a797fe300",
      "5be9e1f69287444082d2a4fad33f6378",
      "dfd1011870d9412f855b649fdb180d63",
      "f6623a19e8e34bcc919229bdf70d26d4",
      "b49f9be0e99f4e89b8276a887fbee447",
      "62d27e29e3964a1781d65e3482296f02",
      "5f31936a9f414554bd47189f4e9d22a4",
      "084cfe8e15f9474ab5638b6462f7d97a",
      "8f33f705fdfc4e6fa101de672d2657c8",
      "5faadde1588c415992c764446840d3e7",
      "e6eb4ecf7c70441eb0718c68d3da66a5",
      "4bf2ff95038146288de0d8d4c8ec0963",
      "3461d1d4d52d4518ba38d42b548ae2be",
      "0a107fdbaff04e7bb777fc4db373d10b",
      "ce8c245b2e4e40589ba93e0dfe9adb90",
      "cbe640e6a22a4b56bafbf79815154850",
      "bf15959e905a468397ca4a20c22a7567",
      "431e78b485714b17ae8a54fa738aca45",
      "197b02e04f9342a682fd70c567714778",
      "fd3c4e22564b4b56be5931e911207e62",
      "aead950a38e246309e8eca77503e3923",
      "0c47117c266c476e800c8fddd50e2a6f",
      "03bdce4276744a05bb93ae57d4a1f46d",
      "89ebfe2f9ae74695958095b783b91ea7",
      "d5ca6a4f47004cb2a2fbd5f19eed4d71",
      "c54dc57badd4447b95157213aa5b1566",
      "4e062c2c590340acb54a6be7affeec5e",
      "2a3909269aa04c34a0c6e70b82a30a62",
      "53a23125ab2142b88c40869df649f299",
      "26e29dbeb62347b482d9afc5221878fa",
      "eee00c8a73c24621b477a50e9f4205b9",
      "e47ae4699c164f6aac97e71f56bc978c",
      "5ddfa39809044c9988b49727fcb8a9d0",
      "47086d3686284db8ac2913931b9ba82d"
     ]
    },
    "id": "sa555MyMkI0o",
    "outputId": "4eb93d02-08fa-4c2e-f0b9-af198719956b"
   },
   "outputs": [
    {
     "name": "stderr",
     "output_type": "stream",
     "text": [
      "/usr/local/lib/python3.12/dist-packages/huggingface_hub/utils/_auth.py:94: UserWarning: \n",
      "The secret `HF_TOKEN` does not exist in your Colab secrets.\n",
      "To authenticate with the Hugging Face Hub, create a token in your settings tab (https://huggingface.co/settings/tokens), set it as secret in your Google Colab and restart your session.\n",
      "You will be able to reuse this secret in all of your notebooks.\n",
      "Please note that authentication is recommended but still optional to access public models or datasets.\n",
      "  warnings.warn(\n"
     ]
    },
    {
     "data": {
      "application/vnd.jupyter.widget-view+json": {
       "model_id": "a7ba42f659c940b1a9e673213426d5ff",
       "version_major": 2,
       "version_minor": 0
      },
      "text/plain": [
       "README.md:   0%|          | 0.00/321 [00:00<?, ?B/s]"
      ]
     },
     "metadata": {},
     "output_type": "display_data"
    },
    {
     "data": {
      "application/vnd.jupyter.widget-view+json": {
       "model_id": "5be9e1f69287444082d2a4fad33f6378",
       "version_major": 2,
       "version_minor": 0
      },
      "text/plain": [
       "data/train-00000-of-00002.parquet:   0%|          | 0.00/185M [00:00<?, ?B/s]"
      ]
     },
     "metadata": {},
     "output_type": "display_data"
    },
    {
     "data": {
      "application/vnd.jupyter.widget-view+json": {
       "model_id": "3461d1d4d52d4518ba38d42b548ae2be",
       "version_major": 2,
       "version_minor": 0
      },
      "text/plain": [
       "data/train-00001-of-00002.parquet:   0%|          | 0.00/178M [00:00<?, ?B/s]"
      ]
     },
     "metadata": {},
     "output_type": "display_data"
    },
    {
     "data": {
      "application/vnd.jupyter.widget-view+json": {
       "model_id": "89ebfe2f9ae74695958095b783b91ea7",
       "version_major": 2,
       "version_minor": 0
      },
      "text/plain": [
       "Generating train split:   0%|          | 0/1782961 [00:00<?, ? examples/s]"
      ]
     },
     "metadata": {},
     "output_type": "display_data"
    }
   ],
   "source": [
    "from datasets import load_dataset\n",
    "\n",
    "dataset = load_dataset(\"moatazhamza194/gb_train\")"
   ]
  },
  {
   "cell_type": "code",
   "execution_count": 2,
   "metadata": {
    "id": "He2NZU4blDOa"
   },
   "outputs": [],
   "source": [
    "data = dataset[\"train\"].to_pandas()"
   ]
  },
  {
   "cell_type": "code",
   "execution_count": 3,
   "metadata": {
    "colab": {
     "base_uri": "https://localhost:8080/",
     "height": 206
    },
    "id": "KdCymwSFm0eo",
    "outputId": "2907e107-5e6c-4ff2-dec2-7a0f4659e466"
   },
   "outputs": [
    {
     "data": {
      "application/vnd.google.colaboratory.intrinsic+json": {
       "type": "dataframe",
       "variable_name": "data"
      },
      "text/html": [
       "\n",
       "  <div id=\"df-473bbedc-de2a-47c9-af17-a53b05b863d2\" class=\"colab-df-container\">\n",
       "    <div>\n",
       "<style scoped>\n",
       "    .dataframe tbody tr th:only-of-type {\n",
       "        vertical-align: middle;\n",
       "    }\n",
       "\n",
       "    .dataframe tbody tr th {\n",
       "        vertical-align: top;\n",
       "    }\n",
       "\n",
       "    .dataframe thead th {\n",
       "        text-align: right;\n",
       "    }\n",
       "</style>\n",
       "<table border=\"1\" class=\"dataframe\">\n",
       "  <thead>\n",
       "    <tr style=\"text-align: right;\">\n",
       "      <th></th>\n",
       "      <th>comment</th>\n",
       "      <th>label</th>\n",
       "    </tr>\n",
       "  </thead>\n",
       "  <tbody>\n",
       "    <tr>\n",
       "      <th>0</th>\n",
       "      <td>This is so cool. It's like, 'would you want yo...</td>\n",
       "      <td>0.000000</td>\n",
       "    </tr>\n",
       "    <tr>\n",
       "      <th>1</th>\n",
       "      <td>Thank you!! This would make my life a lot less...</td>\n",
       "      <td>0.000000</td>\n",
       "    </tr>\n",
       "    <tr>\n",
       "      <th>2</th>\n",
       "      <td>This is such an urgent design problem; kudos t...</td>\n",
       "      <td>0.000000</td>\n",
       "    </tr>\n",
       "    <tr>\n",
       "      <th>3</th>\n",
       "      <td>Is this something I'll be able to install on m...</td>\n",
       "      <td>0.000000</td>\n",
       "    </tr>\n",
       "    <tr>\n",
       "      <th>4</th>\n",
       "      <td>haha you guys are a bunch of losers.</td>\n",
       "      <td>0.893617</td>\n",
       "    </tr>\n",
       "  </tbody>\n",
       "</table>\n",
       "</div>\n",
       "    <div class=\"colab-df-buttons\">\n",
       "\n",
       "  <div class=\"colab-df-container\">\n",
       "    <button class=\"colab-df-convert\" onclick=\"convertToInteractive('df-473bbedc-de2a-47c9-af17-a53b05b863d2')\"\n",
       "            title=\"Convert this dataframe to an interactive table.\"\n",
       "            style=\"display:none;\">\n",
       "\n",
       "  <svg xmlns=\"http://www.w3.org/2000/svg\" height=\"24px\" viewBox=\"0 -960 960 960\">\n",
       "    <path d=\"M120-120v-720h720v720H120Zm60-500h600v-160H180v160Zm220 220h160v-160H400v160Zm0 220h160v-160H400v160ZM180-400h160v-160H180v160Zm440 0h160v-160H620v160ZM180-180h160v-160H180v160Zm440 0h160v-160H620v160Z\"/>\n",
       "  </svg>\n",
       "    </button>\n",
       "\n",
       "  <style>\n",
       "    .colab-df-container {\n",
       "      display:flex;\n",
       "      gap: 12px;\n",
       "    }\n",
       "\n",
       "    .colab-df-convert {\n",
       "      background-color: #E8F0FE;\n",
       "      border: none;\n",
       "      border-radius: 50%;\n",
       "      cursor: pointer;\n",
       "      display: none;\n",
       "      fill: #1967D2;\n",
       "      height: 32px;\n",
       "      padding: 0 0 0 0;\n",
       "      width: 32px;\n",
       "    }\n",
       "\n",
       "    .colab-df-convert:hover {\n",
       "      background-color: #E2EBFA;\n",
       "      box-shadow: 0px 1px 2px rgba(60, 64, 67, 0.3), 0px 1px 3px 1px rgba(60, 64, 67, 0.15);\n",
       "      fill: #174EA6;\n",
       "    }\n",
       "\n",
       "    .colab-df-buttons div {\n",
       "      margin-bottom: 4px;\n",
       "    }\n",
       "\n",
       "    [theme=dark] .colab-df-convert {\n",
       "      background-color: #3B4455;\n",
       "      fill: #D2E3FC;\n",
       "    }\n",
       "\n",
       "    [theme=dark] .colab-df-convert:hover {\n",
       "      background-color: #434B5C;\n",
       "      box-shadow: 0px 1px 3px 1px rgba(0, 0, 0, 0.15);\n",
       "      filter: drop-shadow(0px 1px 2px rgba(0, 0, 0, 0.3));\n",
       "      fill: #FFFFFF;\n",
       "    }\n",
       "  </style>\n",
       "\n",
       "    <script>\n",
       "      const buttonEl =\n",
       "        document.querySelector('#df-473bbedc-de2a-47c9-af17-a53b05b863d2 button.colab-df-convert');\n",
       "      buttonEl.style.display =\n",
       "        google.colab.kernel.accessAllowed ? 'block' : 'none';\n",
       "\n",
       "      async function convertToInteractive(key) {\n",
       "        const element = document.querySelector('#df-473bbedc-de2a-47c9-af17-a53b05b863d2');\n",
       "        const dataTable =\n",
       "          await google.colab.kernel.invokeFunction('convertToInteractive',\n",
       "                                                    [key], {});\n",
       "        if (!dataTable) return;\n",
       "\n",
       "        const docLinkHtml = 'Like what you see? Visit the ' +\n",
       "          '<a target=\"_blank\" href=https://colab.research.google.com/notebooks/data_table.ipynb>data table notebook</a>'\n",
       "          + ' to learn more about interactive tables.';\n",
       "        element.innerHTML = '';\n",
       "        dataTable['output_type'] = 'display_data';\n",
       "        await google.colab.output.renderOutput(dataTable, element);\n",
       "        const docLink = document.createElement('div');\n",
       "        docLink.innerHTML = docLinkHtml;\n",
       "        element.appendChild(docLink);\n",
       "      }\n",
       "    </script>\n",
       "  </div>\n",
       "\n",
       "\n",
       "    <div id=\"df-01f8863e-51df-45b9-bf52-f2fe58861ead\">\n",
       "      <button class=\"colab-df-quickchart\" onclick=\"quickchart('df-01f8863e-51df-45b9-bf52-f2fe58861ead')\"\n",
       "                title=\"Suggest charts\"\n",
       "                style=\"display:none;\">\n",
       "\n",
       "<svg xmlns=\"http://www.w3.org/2000/svg\" height=\"24px\"viewBox=\"0 0 24 24\"\n",
       "     width=\"24px\">\n",
       "    <g>\n",
       "        <path d=\"M19 3H5c-1.1 0-2 .9-2 2v14c0 1.1.9 2 2 2h14c1.1 0 2-.9 2-2V5c0-1.1-.9-2-2-2zM9 17H7v-7h2v7zm4 0h-2V7h2v10zm4 0h-2v-4h2v4z\"/>\n",
       "    </g>\n",
       "</svg>\n",
       "      </button>\n",
       "\n",
       "<style>\n",
       "  .colab-df-quickchart {\n",
       "      --bg-color: #E8F0FE;\n",
       "      --fill-color: #1967D2;\n",
       "      --hover-bg-color: #E2EBFA;\n",
       "      --hover-fill-color: #174EA6;\n",
       "      --disabled-fill-color: #AAA;\n",
       "      --disabled-bg-color: #DDD;\n",
       "  }\n",
       "\n",
       "  [theme=dark] .colab-df-quickchart {\n",
       "      --bg-color: #3B4455;\n",
       "      --fill-color: #D2E3FC;\n",
       "      --hover-bg-color: #434B5C;\n",
       "      --hover-fill-color: #FFFFFF;\n",
       "      --disabled-bg-color: #3B4455;\n",
       "      --disabled-fill-color: #666;\n",
       "  }\n",
       "\n",
       "  .colab-df-quickchart {\n",
       "    background-color: var(--bg-color);\n",
       "    border: none;\n",
       "    border-radius: 50%;\n",
       "    cursor: pointer;\n",
       "    display: none;\n",
       "    fill: var(--fill-color);\n",
       "    height: 32px;\n",
       "    padding: 0;\n",
       "    width: 32px;\n",
       "  }\n",
       "\n",
       "  .colab-df-quickchart:hover {\n",
       "    background-color: var(--hover-bg-color);\n",
       "    box-shadow: 0 1px 2px rgba(60, 64, 67, 0.3), 0 1px 3px 1px rgba(60, 64, 67, 0.15);\n",
       "    fill: var(--button-hover-fill-color);\n",
       "  }\n",
       "\n",
       "  .colab-df-quickchart-complete:disabled,\n",
       "  .colab-df-quickchart-complete:disabled:hover {\n",
       "    background-color: var(--disabled-bg-color);\n",
       "    fill: var(--disabled-fill-color);\n",
       "    box-shadow: none;\n",
       "  }\n",
       "\n",
       "  .colab-df-spinner {\n",
       "    border: 2px solid var(--fill-color);\n",
       "    border-color: transparent;\n",
       "    border-bottom-color: var(--fill-color);\n",
       "    animation:\n",
       "      spin 1s steps(1) infinite;\n",
       "  }\n",
       "\n",
       "  @keyframes spin {\n",
       "    0% {\n",
       "      border-color: transparent;\n",
       "      border-bottom-color: var(--fill-color);\n",
       "      border-left-color: var(--fill-color);\n",
       "    }\n",
       "    20% {\n",
       "      border-color: transparent;\n",
       "      border-left-color: var(--fill-color);\n",
       "      border-top-color: var(--fill-color);\n",
       "    }\n",
       "    30% {\n",
       "      border-color: transparent;\n",
       "      border-left-color: var(--fill-color);\n",
       "      border-top-color: var(--fill-color);\n",
       "      border-right-color: var(--fill-color);\n",
       "    }\n",
       "    40% {\n",
       "      border-color: transparent;\n",
       "      border-right-color: var(--fill-color);\n",
       "      border-top-color: var(--fill-color);\n",
       "    }\n",
       "    60% {\n",
       "      border-color: transparent;\n",
       "      border-right-color: var(--fill-color);\n",
       "    }\n",
       "    80% {\n",
       "      border-color: transparent;\n",
       "      border-right-color: var(--fill-color);\n",
       "      border-bottom-color: var(--fill-color);\n",
       "    }\n",
       "    90% {\n",
       "      border-color: transparent;\n",
       "      border-bottom-color: var(--fill-color);\n",
       "    }\n",
       "  }\n",
       "</style>\n",
       "\n",
       "      <script>\n",
       "        async function quickchart(key) {\n",
       "          const quickchartButtonEl =\n",
       "            document.querySelector('#' + key + ' button');\n",
       "          quickchartButtonEl.disabled = true;  // To prevent multiple clicks.\n",
       "          quickchartButtonEl.classList.add('colab-df-spinner');\n",
       "          try {\n",
       "            const charts = await google.colab.kernel.invokeFunction(\n",
       "                'suggestCharts', [key], {});\n",
       "          } catch (error) {\n",
       "            console.error('Error during call to suggestCharts:', error);\n",
       "          }\n",
       "          quickchartButtonEl.classList.remove('colab-df-spinner');\n",
       "          quickchartButtonEl.classList.add('colab-df-quickchart-complete');\n",
       "        }\n",
       "        (() => {\n",
       "          let quickchartButtonEl =\n",
       "            document.querySelector('#df-01f8863e-51df-45b9-bf52-f2fe58861ead button');\n",
       "          quickchartButtonEl.style.display =\n",
       "            google.colab.kernel.accessAllowed ? 'block' : 'none';\n",
       "        })();\n",
       "      </script>\n",
       "    </div>\n",
       "\n",
       "    </div>\n",
       "  </div>\n"
      ],
      "text/plain": [
       "                                             comment     label\n",
       "0  This is so cool. It's like, 'would you want yo...  0.000000\n",
       "1  Thank you!! This would make my life a lot less...  0.000000\n",
       "2  This is such an urgent design problem; kudos t...  0.000000\n",
       "3  Is this something I'll be able to install on m...  0.000000\n",
       "4               haha you guys are a bunch of losers.  0.893617"
      ]
     },
     "execution_count": 3,
     "metadata": {},
     "output_type": "execute_result"
    }
   ],
   "source": [
    "data.head()"
   ]
  },
  {
   "cell_type": "code",
   "execution_count": 4,
   "metadata": {
    "colab": {
     "base_uri": "https://localhost:8080/"
    },
    "id": "fYQj5ozmm8j0",
    "outputId": "ba40a9ad-ad0d-482a-96fa-d4488de1fb12"
   },
   "outputs": [
    {
     "data": {
      "text/plain": [
       "1782961"
      ]
     },
     "execution_count": 4,
     "metadata": {},
     "output_type": "execute_result"
    }
   ],
   "source": [
    "len(data)"
   ]
  },
  {
   "cell_type": "code",
   "execution_count": 5,
   "metadata": {
    "id": "9F6cj-XZlS8v"
   },
   "outputs": [],
   "source": [
    "import pandas as pd\n",
    "import re\n",
    "import json"
   ]
  },
  {
   "cell_type": "code",
   "execution_count": 6,
   "metadata": {
    "id": "cbnCYlCjlT8Q"
   },
   "outputs": [],
   "source": [
    "def comment_gender_swap(comment, gendered_word_pairs):\n",
    "    # Sort keys by length (longest first) to avoid partial matches\n",
    "    keys = sorted(gendered_word_pairs.keys(), key=len, reverse=True)\n",
    "\n",
    "    pattern = re.compile(\n",
    "        r'(?<!\\w)(?:' + '|'.join(map(re.escape, keys)) + r')(?=(?:\\'s|’s)?(?![\\w’\\']))',\n",
    "        flags=re.IGNORECASE\n",
    "    )\n",
    "\n",
    "    def replace(m):\n",
    "        word = m.group(0)\n",
    "\n",
    "        # Strip possessive for dictionary lookup\n",
    "        base_word = re.sub(r\"(\\'s|’s)$\", \"\", word, flags=re.IGNORECASE)\n",
    "\n",
    "        if base_word.lower() not in gendered_word_pairs:\n",
    "            return word  # no replacement\n",
    "\n",
    "        base = gendered_word_pairs[base_word.lower()]\n",
    "\n",
    "        # Preserve casing\n",
    "        if word.isupper():\n",
    "            replacement = base.upper()\n",
    "        elif word[0].isupper():\n",
    "            replacement = base.capitalize()\n",
    "        else:\n",
    "            replacement = base.lower()\n",
    "\n",
    "        # Reattach possessive if needed\n",
    "        if word.lower().endswith((\"'s\", \"’s\")):\n",
    "            replacement += \"'s\"\n",
    "\n",
    "        return replacement\n",
    "\n",
    "    return pattern.sub(replace, comment)\n",
    "\n",
    "def augment_with_gender_swap(df,pairs):\n",
    "\n",
    "    # 1) produce swapped texts for all rows\n",
    "    swapped_texts = df[\"comment\"].astype(str).apply(lambda t: comment_gender_swap(t, pairs))\n",
    "\n",
    "    # 2) find rows where text actually changed\n",
    "    changed = ~swapped_texts.eq(df[\"comment\"].astype(str))\n",
    "    if not changed.any():\n",
    "        return df.copy()\n",
    "\n",
    "    # 3) take only changed rows, set new text\n",
    "    aug = df.loc[changed].copy()\n",
    "    aug[\"comment\"] = swapped_texts.loc[changed].values\n",
    "\n",
    "    # 5) return augmented rows\n",
    "    return aug\n",
    "\n"
   ]
  },
  {
   "cell_type": "code",
   "execution_count": 7,
   "metadata": {
    "id": "V4Q967WJlvv8"
   },
   "outputs": [],
   "source": [
    "def _compile_gender_mask_regex_from_terms(terms):\n",
    "    \"\"\"\n",
    "    Build a single case-insensitive regex that matches any term\n",
    "    (plus simple plural/possessive tails like s/'s/’s),\n",
    "    but avoids false positives inside contractions or larger words.\n",
    "    \"\"\"\n",
    "    if not terms:\n",
    "        return re.compile(r\"(?!x)x\", flags=re.IGNORECASE)  # never matches\n",
    "\n",
    "    # longest-first to avoid partial overlaps (e.g., 'herself' before 'her')\n",
    "    vocab = sorted({t.lower() for t in terms}, key=len, reverse=True)\n",
    "\n",
    "    pattern = r'(?<!\\w)(?:%s)(?=(?:\\'s|’s|s|es)?(?![\\w’\\']))' % \"|\".join(map(re.escape, vocab))\n",
    "\n",
    "    return re.compile(pattern, flags=re.IGNORECASE)\n",
    "\n",
    "def comment_gender_mask(text, genderTerms, token=\"[GENDER]\"):\n",
    "    \"\"\"\n",
    "    String-level masking (like comment_gender_swap but replaces with a fixed token).\n",
    "    \"\"\"\n",
    "    rx = _compile_gender_mask_regex_from_terms(genderTerms)\n",
    "    return rx.sub(token, str(text))\n",
    "\n",
    "def augment_with_gender_mask(df, genderTerms, text_col=\"comment\", token=\"[GENDER]\"):\n",
    "    \"\"\"\n",
    "    Returns original df + masked duplicates for rows whose text changed.\n",
    "    - Uses the provided `terms` list (derived from your gendered pairs).\n",
    "    - Zeros subgroup cols (male/female) on augmented rows.\n",
    "    - No new columns are added.\n",
    "    \"\"\"\n",
    "    #assert text_col in df.columns, f\"Missing column: {text_col}\"\n",
    "    rx = _compile_gender_mask_regex_from_terms(genderTerms)\n",
    "\n",
    "    # 1) produce masked texts for all rows\n",
    "    df[text_col] = df[text_col].astype(str).apply(lambda t: rx.sub(token, t))\n",
    "\n",
    "    return df # return only the masked data\n"
   ]
  },
  {
   "cell_type": "code",
   "execution_count": 9,
   "metadata": {
    "id": "CHB7qlAxmCYG"
   },
   "outputs": [],
   "source": [
    "# import the dictionary\n",
    "with open(\"gendered_word_pairs.json\", \"r\", encoding=\"utf-8\") as f:\n",
    "    gendered_word_pairs = json.load(f)\n",
    "\n",
    "# add reverse pairs IN PLACE\n",
    "for k, v in list(gendered_word_pairs.items()):\n",
    "    gendered_word_pairs[v] = k\n",
    "\n",
    "# build terms from your existing dict (both keys and values)\n",
    "genderTerms = sorted({str(k).lower() for k in gendered_word_pairs.keys()} |\n",
    "               {str(v).lower() for v in gendered_word_pairs.values()})\n",
    "\n",
    "gender_swap_data = augment_with_gender_swap(data.copy(), gendered_word_pairs)\n",
    "gender_mask_data = augment_with_gender_mask(data.copy(), gendered_word_pairs)\n",
    "\n",
    "#print(data.head())\n",
    "#print(gender_swap_data.head())\n",
    "#print(gender_mask_data.head())"
   ]
  },
  {
   "cell_type": "code",
   "execution_count": 10,
   "metadata": {
    "colab": {
     "base_uri": "https://localhost:8080/",
     "height": 35
    },
    "id": "poyWnImOv7AC",
    "outputId": "a56c289a-e5af-4127-fddb-5b4d5d4641a0"
   },
   "outputs": [
    {
     "data": {
      "application/vnd.google.colaboratory.intrinsic+json": {
       "type": "string"
      },
      "text/plain": [
       "'And so another generation learns the hypocritical ways of the left. They should have just asked.'"
      ]
     },
     "execution_count": 10,
     "metadata": {},
     "output_type": "execute_result"
    }
   ],
   "source": [
    "data.loc[248593][\"comment\"]"
   ]
  },
  {
   "cell_type": "code",
   "execution_count": 11,
   "metadata": {
    "colab": {
     "base_uri": "https://localhost:8080/",
     "height": 547
    },
    "collapsed": true,
    "id": "s0UOBaSxnaso",
    "outputId": "da7afb3f-a2d5-4154-86a9-cb88aaf65dd6"
   },
   "outputs": [
    {
     "ename": "KeyError",
     "evalue": "248593",
     "output_type": "error",
     "traceback": [
      "\u001b[0;31m---------------------------------------------------------------------------\u001b[0m",
      "\u001b[0;31mKeyError\u001b[0m                                  Traceback (most recent call last)",
      "\u001b[0;32m/usr/local/lib/python3.12/dist-packages/pandas/core/indexes/base.py\u001b[0m in \u001b[0;36mget_loc\u001b[0;34m(self, key)\u001b[0m\n\u001b[1;32m   3804\u001b[0m         \u001b[0;32mtry\u001b[0m\u001b[0;34m:\u001b[0m\u001b[0;34m\u001b[0m\u001b[0;34m\u001b[0m\u001b[0m\n\u001b[0;32m-> 3805\u001b[0;31m             \u001b[0;32mreturn\u001b[0m \u001b[0mself\u001b[0m\u001b[0;34m.\u001b[0m\u001b[0m_engine\u001b[0m\u001b[0;34m.\u001b[0m\u001b[0mget_loc\u001b[0m\u001b[0;34m(\u001b[0m\u001b[0mcasted_key\u001b[0m\u001b[0;34m)\u001b[0m\u001b[0;34m\u001b[0m\u001b[0;34m\u001b[0m\u001b[0m\n\u001b[0m\u001b[1;32m   3806\u001b[0m         \u001b[0;32mexcept\u001b[0m \u001b[0mKeyError\u001b[0m \u001b[0;32mas\u001b[0m \u001b[0merr\u001b[0m\u001b[0;34m:\u001b[0m\u001b[0;34m\u001b[0m\u001b[0;34m\u001b[0m\u001b[0m\n",
      "\u001b[0;32mindex.pyx\u001b[0m in \u001b[0;36mpandas._libs.index.IndexEngine.get_loc\u001b[0;34m()\u001b[0m\n",
      "\u001b[0;32mindex.pyx\u001b[0m in \u001b[0;36mpandas._libs.index.IndexEngine.get_loc\u001b[0;34m()\u001b[0m\n",
      "\u001b[0;32mpandas/_libs/hashtable_class_helper.pxi\u001b[0m in \u001b[0;36mpandas._libs.hashtable.Int64HashTable.get_item\u001b[0;34m()\u001b[0m\n",
      "\u001b[0;32mpandas/_libs/hashtable_class_helper.pxi\u001b[0m in \u001b[0;36mpandas._libs.hashtable.Int64HashTable.get_item\u001b[0;34m()\u001b[0m\n",
      "\u001b[0;31mKeyError\u001b[0m: 248593",
      "\nThe above exception was the direct cause of the following exception:\n",
      "\u001b[0;31mKeyError\u001b[0m                                  Traceback (most recent call last)",
      "\u001b[0;32m/tmp/ipython-input-3459040876.py\u001b[0m in \u001b[0;36m<cell line: 0>\u001b[0;34m()\u001b[0m\n\u001b[0;32m----> 1\u001b[0;31m \u001b[0mgender_swap_data\u001b[0m\u001b[0;34m.\u001b[0m\u001b[0mloc\u001b[0m\u001b[0;34m[\u001b[0m\u001b[0;36m248593\u001b[0m\u001b[0;34m]\u001b[0m\u001b[0;34m[\u001b[0m\u001b[0;34m\"comment\"\u001b[0m\u001b[0;34m]\u001b[0m\u001b[0;34m\u001b[0m\u001b[0;34m\u001b[0m\u001b[0m\n\u001b[0m",
      "\u001b[0;32m/usr/local/lib/python3.12/dist-packages/pandas/core/indexing.py\u001b[0m in \u001b[0;36m__getitem__\u001b[0;34m(self, key)\u001b[0m\n\u001b[1;32m   1189\u001b[0m             \u001b[0mmaybe_callable\u001b[0m \u001b[0;34m=\u001b[0m \u001b[0mcom\u001b[0m\u001b[0;34m.\u001b[0m\u001b[0mapply_if_callable\u001b[0m\u001b[0;34m(\u001b[0m\u001b[0mkey\u001b[0m\u001b[0;34m,\u001b[0m \u001b[0mself\u001b[0m\u001b[0;34m.\u001b[0m\u001b[0mobj\u001b[0m\u001b[0;34m)\u001b[0m\u001b[0;34m\u001b[0m\u001b[0;34m\u001b[0m\u001b[0m\n\u001b[1;32m   1190\u001b[0m             \u001b[0mmaybe_callable\u001b[0m \u001b[0;34m=\u001b[0m \u001b[0mself\u001b[0m\u001b[0;34m.\u001b[0m\u001b[0m_check_deprecated_callable_usage\u001b[0m\u001b[0;34m(\u001b[0m\u001b[0mkey\u001b[0m\u001b[0;34m,\u001b[0m \u001b[0mmaybe_callable\u001b[0m\u001b[0;34m)\u001b[0m\u001b[0;34m\u001b[0m\u001b[0;34m\u001b[0m\u001b[0m\n\u001b[0;32m-> 1191\u001b[0;31m             \u001b[0;32mreturn\u001b[0m \u001b[0mself\u001b[0m\u001b[0;34m.\u001b[0m\u001b[0m_getitem_axis\u001b[0m\u001b[0;34m(\u001b[0m\u001b[0mmaybe_callable\u001b[0m\u001b[0;34m,\u001b[0m \u001b[0maxis\u001b[0m\u001b[0;34m=\u001b[0m\u001b[0maxis\u001b[0m\u001b[0;34m)\u001b[0m\u001b[0;34m\u001b[0m\u001b[0;34m\u001b[0m\u001b[0m\n\u001b[0m\u001b[1;32m   1192\u001b[0m \u001b[0;34m\u001b[0m\u001b[0m\n\u001b[1;32m   1193\u001b[0m     \u001b[0;32mdef\u001b[0m \u001b[0m_is_scalar_access\u001b[0m\u001b[0;34m(\u001b[0m\u001b[0mself\u001b[0m\u001b[0;34m,\u001b[0m \u001b[0mkey\u001b[0m\u001b[0;34m:\u001b[0m \u001b[0mtuple\u001b[0m\u001b[0;34m)\u001b[0m\u001b[0;34m:\u001b[0m\u001b[0;34m\u001b[0m\u001b[0;34m\u001b[0m\u001b[0m\n",
      "\u001b[0;32m/usr/local/lib/python3.12/dist-packages/pandas/core/indexing.py\u001b[0m in \u001b[0;36m_getitem_axis\u001b[0;34m(self, key, axis)\u001b[0m\n\u001b[1;32m   1429\u001b[0m         \u001b[0;31m# fall thru to straight lookup\u001b[0m\u001b[0;34m\u001b[0m\u001b[0;34m\u001b[0m\u001b[0m\n\u001b[1;32m   1430\u001b[0m         \u001b[0mself\u001b[0m\u001b[0;34m.\u001b[0m\u001b[0m_validate_key\u001b[0m\u001b[0;34m(\u001b[0m\u001b[0mkey\u001b[0m\u001b[0;34m,\u001b[0m \u001b[0maxis\u001b[0m\u001b[0;34m)\u001b[0m\u001b[0;34m\u001b[0m\u001b[0;34m\u001b[0m\u001b[0m\n\u001b[0;32m-> 1431\u001b[0;31m         \u001b[0;32mreturn\u001b[0m \u001b[0mself\u001b[0m\u001b[0;34m.\u001b[0m\u001b[0m_get_label\u001b[0m\u001b[0;34m(\u001b[0m\u001b[0mkey\u001b[0m\u001b[0;34m,\u001b[0m \u001b[0maxis\u001b[0m\u001b[0;34m=\u001b[0m\u001b[0maxis\u001b[0m\u001b[0;34m)\u001b[0m\u001b[0;34m\u001b[0m\u001b[0;34m\u001b[0m\u001b[0m\n\u001b[0m\u001b[1;32m   1432\u001b[0m \u001b[0;34m\u001b[0m\u001b[0m\n\u001b[1;32m   1433\u001b[0m     \u001b[0;32mdef\u001b[0m \u001b[0m_get_slice_axis\u001b[0m\u001b[0;34m(\u001b[0m\u001b[0mself\u001b[0m\u001b[0;34m,\u001b[0m \u001b[0mslice_obj\u001b[0m\u001b[0;34m:\u001b[0m \u001b[0mslice\u001b[0m\u001b[0;34m,\u001b[0m \u001b[0maxis\u001b[0m\u001b[0;34m:\u001b[0m \u001b[0mAxisInt\u001b[0m\u001b[0;34m)\u001b[0m\u001b[0;34m:\u001b[0m\u001b[0;34m\u001b[0m\u001b[0;34m\u001b[0m\u001b[0m\n",
      "\u001b[0;32m/usr/local/lib/python3.12/dist-packages/pandas/core/indexing.py\u001b[0m in \u001b[0;36m_get_label\u001b[0;34m(self, label, axis)\u001b[0m\n\u001b[1;32m   1379\u001b[0m     \u001b[0;32mdef\u001b[0m \u001b[0m_get_label\u001b[0m\u001b[0;34m(\u001b[0m\u001b[0mself\u001b[0m\u001b[0;34m,\u001b[0m \u001b[0mlabel\u001b[0m\u001b[0;34m,\u001b[0m \u001b[0maxis\u001b[0m\u001b[0;34m:\u001b[0m \u001b[0mAxisInt\u001b[0m\u001b[0;34m)\u001b[0m\u001b[0;34m:\u001b[0m\u001b[0;34m\u001b[0m\u001b[0;34m\u001b[0m\u001b[0m\n\u001b[1;32m   1380\u001b[0m         \u001b[0;31m# GH#5567 this will fail if the label is not present in the axis.\u001b[0m\u001b[0;34m\u001b[0m\u001b[0;34m\u001b[0m\u001b[0m\n\u001b[0;32m-> 1381\u001b[0;31m         \u001b[0;32mreturn\u001b[0m \u001b[0mself\u001b[0m\u001b[0;34m.\u001b[0m\u001b[0mobj\u001b[0m\u001b[0;34m.\u001b[0m\u001b[0mxs\u001b[0m\u001b[0;34m(\u001b[0m\u001b[0mlabel\u001b[0m\u001b[0;34m,\u001b[0m \u001b[0maxis\u001b[0m\u001b[0;34m=\u001b[0m\u001b[0maxis\u001b[0m\u001b[0;34m)\u001b[0m\u001b[0;34m\u001b[0m\u001b[0;34m\u001b[0m\u001b[0m\n\u001b[0m\u001b[1;32m   1382\u001b[0m \u001b[0;34m\u001b[0m\u001b[0m\n\u001b[1;32m   1383\u001b[0m     \u001b[0;32mdef\u001b[0m \u001b[0m_handle_lowerdim_multi_index_axis0\u001b[0m\u001b[0;34m(\u001b[0m\u001b[0mself\u001b[0m\u001b[0;34m,\u001b[0m \u001b[0mtup\u001b[0m\u001b[0;34m:\u001b[0m \u001b[0mtuple\u001b[0m\u001b[0;34m)\u001b[0m\u001b[0;34m:\u001b[0m\u001b[0;34m\u001b[0m\u001b[0;34m\u001b[0m\u001b[0m\n",
      "\u001b[0;32m/usr/local/lib/python3.12/dist-packages/pandas/core/generic.py\u001b[0m in \u001b[0;36mxs\u001b[0;34m(self, key, axis, level, drop_level)\u001b[0m\n\u001b[1;32m   4299\u001b[0m                     \u001b[0mnew_index\u001b[0m \u001b[0;34m=\u001b[0m \u001b[0mindex\u001b[0m\u001b[0;34m[\u001b[0m\u001b[0mloc\u001b[0m\u001b[0;34m]\u001b[0m\u001b[0;34m\u001b[0m\u001b[0;34m\u001b[0m\u001b[0m\n\u001b[1;32m   4300\u001b[0m         \u001b[0;32melse\u001b[0m\u001b[0;34m:\u001b[0m\u001b[0;34m\u001b[0m\u001b[0;34m\u001b[0m\u001b[0m\n\u001b[0;32m-> 4301\u001b[0;31m             \u001b[0mloc\u001b[0m \u001b[0;34m=\u001b[0m \u001b[0mindex\u001b[0m\u001b[0;34m.\u001b[0m\u001b[0mget_loc\u001b[0m\u001b[0;34m(\u001b[0m\u001b[0mkey\u001b[0m\u001b[0;34m)\u001b[0m\u001b[0;34m\u001b[0m\u001b[0;34m\u001b[0m\u001b[0m\n\u001b[0m\u001b[1;32m   4302\u001b[0m \u001b[0;34m\u001b[0m\u001b[0m\n\u001b[1;32m   4303\u001b[0m             \u001b[0;32mif\u001b[0m \u001b[0misinstance\u001b[0m\u001b[0;34m(\u001b[0m\u001b[0mloc\u001b[0m\u001b[0;34m,\u001b[0m \u001b[0mnp\u001b[0m\u001b[0;34m.\u001b[0m\u001b[0mndarray\u001b[0m\u001b[0;34m)\u001b[0m\u001b[0;34m:\u001b[0m\u001b[0;34m\u001b[0m\u001b[0;34m\u001b[0m\u001b[0m\n",
      "\u001b[0;32m/usr/local/lib/python3.12/dist-packages/pandas/core/indexes/base.py\u001b[0m in \u001b[0;36mget_loc\u001b[0;34m(self, key)\u001b[0m\n\u001b[1;32m   3810\u001b[0m             ):\n\u001b[1;32m   3811\u001b[0m                 \u001b[0;32mraise\u001b[0m \u001b[0mInvalidIndexError\u001b[0m\u001b[0;34m(\u001b[0m\u001b[0mkey\u001b[0m\u001b[0;34m)\u001b[0m\u001b[0;34m\u001b[0m\u001b[0;34m\u001b[0m\u001b[0m\n\u001b[0;32m-> 3812\u001b[0;31m             \u001b[0;32mraise\u001b[0m \u001b[0mKeyError\u001b[0m\u001b[0;34m(\u001b[0m\u001b[0mkey\u001b[0m\u001b[0;34m)\u001b[0m \u001b[0;32mfrom\u001b[0m \u001b[0merr\u001b[0m\u001b[0;34m\u001b[0m\u001b[0;34m\u001b[0m\u001b[0m\n\u001b[0m\u001b[1;32m   3813\u001b[0m         \u001b[0;32mexcept\u001b[0m \u001b[0mTypeError\u001b[0m\u001b[0;34m:\u001b[0m\u001b[0;34m\u001b[0m\u001b[0;34m\u001b[0m\u001b[0m\n\u001b[1;32m   3814\u001b[0m             \u001b[0;31m# If we have a listlike key, _check_indexing_error will raise\u001b[0m\u001b[0;34m\u001b[0m\u001b[0;34m\u001b[0m\u001b[0m\n",
      "\u001b[0;31mKeyError\u001b[0m: 248593"
     ]
    }
   ],
   "source": [
    "gender_swap_data.loc[248593][\"comment\"]"
   ]
  },
  {
   "cell_type": "code",
   "execution_count": 12,
   "metadata": {
    "colab": {
     "base_uri": "https://localhost:8080/",
     "height": 35
    },
    "id": "bar2q4Dbnd7R",
    "outputId": "6a91dd44-e632-4b48-87d8-408114d0b258"
   },
   "outputs": [
    {
     "data": {
      "application/vnd.google.colaboratory.intrinsic+json": {
       "type": "string"
      },
      "text/plain": [
       "'And so another generation learns the hypocritical ways of the left. They should have just asked.'"
      ]
     },
     "execution_count": 12,
     "metadata": {},
     "output_type": "execute_result"
    }
   ],
   "source": [
    "gender_mask_data.loc[248593][\"comment\"]"
   ]
  },
  {
   "cell_type": "code",
   "execution_count": 13,
   "metadata": {
    "id": "5U0XPBxRnX4Q"
   },
   "outputs": [],
   "source": [
    "# add the gender swapped rows to the original data\n",
    "gender_swap_data = pd.concat([data, gender_swap_data], ignore_index=True)"
   ]
  },
  {
   "cell_type": "code",
   "execution_count": 14,
   "metadata": {
    "colab": {
     "base_uri": "https://localhost:8080/",
     "height": 206
    },
    "id": "Z6CQQSdYuG8m",
    "outputId": "d4d885cc-6490-4d26-ef0f-e347c79b8497"
   },
   "outputs": [
    {
     "data": {
      "application/vnd.google.colaboratory.intrinsic+json": {
       "type": "dataframe",
       "variable_name": "gender_swap_data"
      },
      "text/html": [
       "\n",
       "  <div id=\"df-1b51de9b-0e64-48f2-9310-14fb98066783\" class=\"colab-df-container\">\n",
       "    <div>\n",
       "<style scoped>\n",
       "    .dataframe tbody tr th:only-of-type {\n",
       "        vertical-align: middle;\n",
       "    }\n",
       "\n",
       "    .dataframe tbody tr th {\n",
       "        vertical-align: top;\n",
       "    }\n",
       "\n",
       "    .dataframe thead th {\n",
       "        text-align: right;\n",
       "    }\n",
       "</style>\n",
       "<table border=\"1\" class=\"dataframe\">\n",
       "  <thead>\n",
       "    <tr style=\"text-align: right;\">\n",
       "      <th></th>\n",
       "      <th>comment</th>\n",
       "      <th>label</th>\n",
       "    </tr>\n",
       "  </thead>\n",
       "  <tbody>\n",
       "    <tr>\n",
       "      <th>0</th>\n",
       "      <td>This is so cool. It's like, 'would you want yo...</td>\n",
       "      <td>0.000000</td>\n",
       "    </tr>\n",
       "    <tr>\n",
       "      <th>1</th>\n",
       "      <td>Thank you!! This would make my life a lot less...</td>\n",
       "      <td>0.000000</td>\n",
       "    </tr>\n",
       "    <tr>\n",
       "      <th>2</th>\n",
       "      <td>This is such an urgent design problem; kudos t...</td>\n",
       "      <td>0.000000</td>\n",
       "    </tr>\n",
       "    <tr>\n",
       "      <th>3</th>\n",
       "      <td>Is this something I'll be able to install on m...</td>\n",
       "      <td>0.000000</td>\n",
       "    </tr>\n",
       "    <tr>\n",
       "      <th>4</th>\n",
       "      <td>haha you guys are a bunch of losers.</td>\n",
       "      <td>0.893617</td>\n",
       "    </tr>\n",
       "  </tbody>\n",
       "</table>\n",
       "</div>\n",
       "    <div class=\"colab-df-buttons\">\n",
       "\n",
       "  <div class=\"colab-df-container\">\n",
       "    <button class=\"colab-df-convert\" onclick=\"convertToInteractive('df-1b51de9b-0e64-48f2-9310-14fb98066783')\"\n",
       "            title=\"Convert this dataframe to an interactive table.\"\n",
       "            style=\"display:none;\">\n",
       "\n",
       "  <svg xmlns=\"http://www.w3.org/2000/svg\" height=\"24px\" viewBox=\"0 -960 960 960\">\n",
       "    <path d=\"M120-120v-720h720v720H120Zm60-500h600v-160H180v160Zm220 220h160v-160H400v160Zm0 220h160v-160H400v160ZM180-400h160v-160H180v160Zm440 0h160v-160H620v160ZM180-180h160v-160H180v160Zm440 0h160v-160H620v160Z\"/>\n",
       "  </svg>\n",
       "    </button>\n",
       "\n",
       "  <style>\n",
       "    .colab-df-container {\n",
       "      display:flex;\n",
       "      gap: 12px;\n",
       "    }\n",
       "\n",
       "    .colab-df-convert {\n",
       "      background-color: #E8F0FE;\n",
       "      border: none;\n",
       "      border-radius: 50%;\n",
       "      cursor: pointer;\n",
       "      display: none;\n",
       "      fill: #1967D2;\n",
       "      height: 32px;\n",
       "      padding: 0 0 0 0;\n",
       "      width: 32px;\n",
       "    }\n",
       "\n",
       "    .colab-df-convert:hover {\n",
       "      background-color: #E2EBFA;\n",
       "      box-shadow: 0px 1px 2px rgba(60, 64, 67, 0.3), 0px 1px 3px 1px rgba(60, 64, 67, 0.15);\n",
       "      fill: #174EA6;\n",
       "    }\n",
       "\n",
       "    .colab-df-buttons div {\n",
       "      margin-bottom: 4px;\n",
       "    }\n",
       "\n",
       "    [theme=dark] .colab-df-convert {\n",
       "      background-color: #3B4455;\n",
       "      fill: #D2E3FC;\n",
       "    }\n",
       "\n",
       "    [theme=dark] .colab-df-convert:hover {\n",
       "      background-color: #434B5C;\n",
       "      box-shadow: 0px 1px 3px 1px rgba(0, 0, 0, 0.15);\n",
       "      filter: drop-shadow(0px 1px 2px rgba(0, 0, 0, 0.3));\n",
       "      fill: #FFFFFF;\n",
       "    }\n",
       "  </style>\n",
       "\n",
       "    <script>\n",
       "      const buttonEl =\n",
       "        document.querySelector('#df-1b51de9b-0e64-48f2-9310-14fb98066783 button.colab-df-convert');\n",
       "      buttonEl.style.display =\n",
       "        google.colab.kernel.accessAllowed ? 'block' : 'none';\n",
       "\n",
       "      async function convertToInteractive(key) {\n",
       "        const element = document.querySelector('#df-1b51de9b-0e64-48f2-9310-14fb98066783');\n",
       "        const dataTable =\n",
       "          await google.colab.kernel.invokeFunction('convertToInteractive',\n",
       "                                                    [key], {});\n",
       "        if (!dataTable) return;\n",
       "\n",
       "        const docLinkHtml = 'Like what you see? Visit the ' +\n",
       "          '<a target=\"_blank\" href=https://colab.research.google.com/notebooks/data_table.ipynb>data table notebook</a>'\n",
       "          + ' to learn more about interactive tables.';\n",
       "        element.innerHTML = '';\n",
       "        dataTable['output_type'] = 'display_data';\n",
       "        await google.colab.output.renderOutput(dataTable, element);\n",
       "        const docLink = document.createElement('div');\n",
       "        docLink.innerHTML = docLinkHtml;\n",
       "        element.appendChild(docLink);\n",
       "      }\n",
       "    </script>\n",
       "  </div>\n",
       "\n",
       "\n",
       "    <div id=\"df-c33a41d7-e23e-468c-bf87-9f02e7a9fba8\">\n",
       "      <button class=\"colab-df-quickchart\" onclick=\"quickchart('df-c33a41d7-e23e-468c-bf87-9f02e7a9fba8')\"\n",
       "                title=\"Suggest charts\"\n",
       "                style=\"display:none;\">\n",
       "\n",
       "<svg xmlns=\"http://www.w3.org/2000/svg\" height=\"24px\"viewBox=\"0 0 24 24\"\n",
       "     width=\"24px\">\n",
       "    <g>\n",
       "        <path d=\"M19 3H5c-1.1 0-2 .9-2 2v14c0 1.1.9 2 2 2h14c1.1 0 2-.9 2-2V5c0-1.1-.9-2-2-2zM9 17H7v-7h2v7zm4 0h-2V7h2v10zm4 0h-2v-4h2v4z\"/>\n",
       "    </g>\n",
       "</svg>\n",
       "      </button>\n",
       "\n",
       "<style>\n",
       "  .colab-df-quickchart {\n",
       "      --bg-color: #E8F0FE;\n",
       "      --fill-color: #1967D2;\n",
       "      --hover-bg-color: #E2EBFA;\n",
       "      --hover-fill-color: #174EA6;\n",
       "      --disabled-fill-color: #AAA;\n",
       "      --disabled-bg-color: #DDD;\n",
       "  }\n",
       "\n",
       "  [theme=dark] .colab-df-quickchart {\n",
       "      --bg-color: #3B4455;\n",
       "      --fill-color: #D2E3FC;\n",
       "      --hover-bg-color: #434B5C;\n",
       "      --hover-fill-color: #FFFFFF;\n",
       "      --disabled-bg-color: #3B4455;\n",
       "      --disabled-fill-color: #666;\n",
       "  }\n",
       "\n",
       "  .colab-df-quickchart {\n",
       "    background-color: var(--bg-color);\n",
       "    border: none;\n",
       "    border-radius: 50%;\n",
       "    cursor: pointer;\n",
       "    display: none;\n",
       "    fill: var(--fill-color);\n",
       "    height: 32px;\n",
       "    padding: 0;\n",
       "    width: 32px;\n",
       "  }\n",
       "\n",
       "  .colab-df-quickchart:hover {\n",
       "    background-color: var(--hover-bg-color);\n",
       "    box-shadow: 0 1px 2px rgba(60, 64, 67, 0.3), 0 1px 3px 1px rgba(60, 64, 67, 0.15);\n",
       "    fill: var(--button-hover-fill-color);\n",
       "  }\n",
       "\n",
       "  .colab-df-quickchart-complete:disabled,\n",
       "  .colab-df-quickchart-complete:disabled:hover {\n",
       "    background-color: var(--disabled-bg-color);\n",
       "    fill: var(--disabled-fill-color);\n",
       "    box-shadow: none;\n",
       "  }\n",
       "\n",
       "  .colab-df-spinner {\n",
       "    border: 2px solid var(--fill-color);\n",
       "    border-color: transparent;\n",
       "    border-bottom-color: var(--fill-color);\n",
       "    animation:\n",
       "      spin 1s steps(1) infinite;\n",
       "  }\n",
       "\n",
       "  @keyframes spin {\n",
       "    0% {\n",
       "      border-color: transparent;\n",
       "      border-bottom-color: var(--fill-color);\n",
       "      border-left-color: var(--fill-color);\n",
       "    }\n",
       "    20% {\n",
       "      border-color: transparent;\n",
       "      border-left-color: var(--fill-color);\n",
       "      border-top-color: var(--fill-color);\n",
       "    }\n",
       "    30% {\n",
       "      border-color: transparent;\n",
       "      border-left-color: var(--fill-color);\n",
       "      border-top-color: var(--fill-color);\n",
       "      border-right-color: var(--fill-color);\n",
       "    }\n",
       "    40% {\n",
       "      border-color: transparent;\n",
       "      border-right-color: var(--fill-color);\n",
       "      border-top-color: var(--fill-color);\n",
       "    }\n",
       "    60% {\n",
       "      border-color: transparent;\n",
       "      border-right-color: var(--fill-color);\n",
       "    }\n",
       "    80% {\n",
       "      border-color: transparent;\n",
       "      border-right-color: var(--fill-color);\n",
       "      border-bottom-color: var(--fill-color);\n",
       "    }\n",
       "    90% {\n",
       "      border-color: transparent;\n",
       "      border-bottom-color: var(--fill-color);\n",
       "    }\n",
       "  }\n",
       "</style>\n",
       "\n",
       "      <script>\n",
       "        async function quickchart(key) {\n",
       "          const quickchartButtonEl =\n",
       "            document.querySelector('#' + key + ' button');\n",
       "          quickchartButtonEl.disabled = true;  // To prevent multiple clicks.\n",
       "          quickchartButtonEl.classList.add('colab-df-spinner');\n",
       "          try {\n",
       "            const charts = await google.colab.kernel.invokeFunction(\n",
       "                'suggestCharts', [key], {});\n",
       "          } catch (error) {\n",
       "            console.error('Error during call to suggestCharts:', error);\n",
       "          }\n",
       "          quickchartButtonEl.classList.remove('colab-df-spinner');\n",
       "          quickchartButtonEl.classList.add('colab-df-quickchart-complete');\n",
       "        }\n",
       "        (() => {\n",
       "          let quickchartButtonEl =\n",
       "            document.querySelector('#df-c33a41d7-e23e-468c-bf87-9f02e7a9fba8 button');\n",
       "          quickchartButtonEl.style.display =\n",
       "            google.colab.kernel.accessAllowed ? 'block' : 'none';\n",
       "        })();\n",
       "      </script>\n",
       "    </div>\n",
       "\n",
       "    </div>\n",
       "  </div>\n"
      ],
      "text/plain": [
       "                                             comment     label\n",
       "0  This is so cool. It's like, 'would you want yo...  0.000000\n",
       "1  Thank you!! This would make my life a lot less...  0.000000\n",
       "2  This is such an urgent design problem; kudos t...  0.000000\n",
       "3  Is this something I'll be able to install on m...  0.000000\n",
       "4               haha you guys are a bunch of losers.  0.893617"
      ]
     },
     "execution_count": 14,
     "metadata": {},
     "output_type": "execute_result"
    }
   ],
   "source": [
    "gender_swap_data.head()"
   ]
  },
  {
   "cell_type": "code",
   "execution_count": 15,
   "metadata": {
    "id": "aUm5dTzmuDEG"
   },
   "outputs": [],
   "source": [
    "from datasets import Dataset\n",
    "gender_swap_dataset = Dataset.from_pandas(gender_swap_data)\n",
    "gender_mask_dataset = Dataset.from_pandas(gender_mask_data)"
   ]
  },
  {
   "cell_type": "code",
   "execution_count": 16,
   "metadata": {
    "colab": {
     "base_uri": "https://localhost:8080/"
    },
    "id": "bCBmscRLuzv8",
    "outputId": "a69dc14e-2f99-4027-a503-1210efac4fe7"
   },
   "outputs": [
    {
     "name": "stdout",
     "output_type": "stream",
     "text": [
      "\u001b[33m⚠️  Warning: 'huggingface-cli login' is deprecated. Use 'hf auth login' instead.\u001b[0m\n",
      "\n",
      "    _|    _|  _|    _|    _|_|_|    _|_|_|  _|_|_|  _|      _|    _|_|_|      _|_|_|_|    _|_|      _|_|_|  _|_|_|_|\n",
      "    _|    _|  _|    _|  _|        _|          _|    _|_|    _|  _|            _|        _|    _|  _|        _|\n",
      "    _|_|_|_|  _|    _|  _|  _|_|  _|  _|_|    _|    _|  _|  _|  _|  _|_|      _|_|_|    _|_|_|_|  _|        _|_|_|\n",
      "    _|    _|  _|    _|  _|    _|  _|    _|    _|    _|    _|_|  _|    _|      _|        _|    _|  _|        _|\n",
      "    _|    _|    _|_|      _|_|_|    _|_|_|  _|_|_|  _|      _|    _|_|_|      _|        _|    _|    _|_|_|  _|_|_|_|\n",
      "\n",
      "    To log in, `huggingface_hub` requires a token generated from https://huggingface.co/settings/tokens .\n",
      "Enter your token (input will not be visible): \n",
      "Add token as git credential? (Y/n) Y\n",
      "Token is valid (permission: write).\n",
      "The token `new` has been saved to /root/.cache/huggingface/stored_tokens\n",
      "\u001b[1m\u001b[31mCannot authenticate through git-credential as no helper is defined on your machine.\n",
      "You might have to re-authenticate when pushing to the Hugging Face Hub.\n",
      "Run the following command in your terminal in case you want to set the 'store' credential helper as default.\n",
      "\n",
      "git config --global credential.helper store\n",
      "\n",
      "Read https://git-scm.com/book/en/v2/Git-Tools-Credential-Storage for more details.\u001b[0m\n",
      "Token has not been saved to git credential helper.\n",
      "Your token has been saved to /root/.cache/huggingface/token\n",
      "Login successful.\n",
      "The current active token is: `new`\n"
     ]
    }
   ],
   "source": [
    "!huggingface-cli login"
   ]
  },
  {
   "cell_type": "code",
   "execution_count": 17,
   "metadata": {
    "colab": {
     "base_uri": "https://localhost:8080/",
     "height": 700,
     "referenced_widgets": [
      "ac246f4d889c47b9b5b1b3849e7c07c2",
      "c32d90b068de4ea48866ca13172b56f9",
      "ac4fc524a61f4c6392f20c0f1340736c",
      "5cc9bf5586ad4aabbf985d223e356a8a",
      "1246b34b66ce4deb890ded4de5afdbca",
      "bd99e3502557436b8e2e13a7f1252796",
      "a76178ba00404adc94b6d8b4fe2c7180",
      "d2af49b5a5d94fd9933d471e90caa0ac",
      "8d5671eea3f845ebb226987b07d311d2",
      "c03f2f1443cd4bb7af854c5da54c9ef5",
      "ad3e020a6194468a80715d68e6c1be45",
      "5e05a1564d8b44849131331607d27123",
      "01d16ac08cac478caa5e4a47dfa5a7e8",
      "95662fb242de484b9d7b69614c713764",
      "bd24a1561c824251b8e9c34221d48ee9",
      "032d744340184967aa418546428e2a66",
      "6e68d821fd6c443398c3af05cb149cd1",
      "6b3084004f8340ce81c7334c2ce03434",
      "bf7c3dcbdca04dcdb4f280df23330526",
      "7231ec87775b4984a2143b58d828b456",
      "8edff2b094f648b39b6081aa88c9facd",
      "1fc790e2d22d48298be52d22fd9e9fb0",
      "85be10c2a2e64400abd44a932a948dbb",
      "58474aac0d87438fafa0477486d1408c",
      "7de60e8b495140d6ab1e9b9d8a4ab212",
      "01b226e2d4404411af46236e5eba6e31",
      "622e57f72f5a4e5099b97b7f1627c25f",
      "ad296eaaf2f5408db53c893e8a130647",
      "8b9ff9ececf7465ba2e5eb20546757a7",
      "b1f73a8057ae48a1a2a385a8c9ca5477",
      "051248b927124fc98a663b8e2728f31e",
      "d8ecc443c0d24e2f928e93270fd487f4",
      "7cf3da03512643178dcb0ac785741a2c",
      "556e66fb3cc047b4b757ec100574065b",
      "826eb2948c9846879a41fc7183df13ae",
      "de9f22b671f5466c837f16b65713d78f",
      "5fbf93e5d66d473f841294b28837d5b7",
      "c95231320db64d8487c06807717416bc",
      "1b91d1e36f1d4de1b6688b60d6a90eae",
      "5f1f332c714e4dee915c7135000c8a3d",
      "94d731c7ef48473ca83aa5ddd54ca993",
      "2931dd8eb78d416bbc7b7883654b9533",
      "a33e7c06ea7e4d4eab988f3a1d7d579d",
      "154a0b29f33040eb876b892a8739e4c5",
      "8265c0a86ca147919635a4b3346840cf",
      "b462c5f7f0cf430399faa0726d752553",
      "8eb3e8c0943346c096b505cf40e1e3ec",
      "0215504caf744f0fa6bedf60861d6157",
      "cf9d49649c5a4dec92960b91c8d39fbf",
      "606a3d36d2c7445ab595b71f9b06a93b",
      "92ecd3a3dc8c479db2022cdd8dc880cb",
      "919f9e5c1a034da38557a5358ebe17cb",
      "22b1332c401c411293eae38f1e34b8b6",
      "c4384e8a456446bf8bf75b63f358ebd8",
      "79a9252079aa4cb4b3dee2691306432c",
      "f5207909c18a49b4944116452bcbe2f8",
      "54b88988b16145fd9e877be696cb354b",
      "7a28894f5f73478cad62f98a81b442dd",
      "4a34c28e2f2047e3b1440b495639029b",
      "a6ac2b5bd2884d7ca8979cea5a263d2b",
      "3ddcc3c4acc746d4b51bc9f0c6220db5",
      "81c01fb79fe04f8ab67358c2e11a3c35",
      "c70392da742a4d2999780cc384304930",
      "61bb4392f0174d74aa4cb989e94e749b",
      "c9acd9ed91b441cfa2894461933778e5",
      "5387c8a7f045425eae951537b42af6a9",
      "fc5e6e8fda844a4cbccfc25ca8340793",
      "dafb8696db574cd092cac4c40167ffa9",
      "5830e3203a1440d983147106b26a44fe",
      "df84dbc340e6468fa9c035fb01e3fab0",
      "005d0981523142c186df9e0512209a47",
      "9fa8ee94975c44a1a588501744169dd8",
      "ec35b0860e8e45b69cfd7808e33ce70d",
      "ca06d4522af541edbeb3bf916e9008cc",
      "5aded79337404f22b2e1ed224852b2e8",
      "7424d78d10594f6b8be78500c2e0f9bc",
      "f39cb737969548d886eafe24e3df49c7",
      "4f9a17d9e1d34edcb15d6ec0ba3aaa79",
      "bbd318e1f7844da1884de108d8305b99",
      "49670da84b4143bca58f81e05e52f0ef",
      "ff1e67eda0fc40d0a1c3909748250b14",
      "ec73f45838da4a15a56ab596ba7bfaca",
      "5c915d9129874d60b1ee1942ffaeb5fd",
      "1199b1b578fa40b5a107ff8f7134ce1c",
      "a2fe4996eb83465ca1ce785b3823fa4b",
      "40c8ffe572e24fd288ead5bb3d37be80",
      "b825d74f677146cebc3c3c0b4b610175",
      "9d6fa6ec6de44dde9e59c354cac25367",
      "47169328f5a544e994aaacd389921d9c",
      "9dcec274c24142789265b0993f4a2ed7",
      "939bb3e475d24367874c17912f6d3ffd",
      "ced746f53d2148308564a33c432e4337",
      "d5377ef365224c5f8b75c047384e2042",
      "40612de1ca364785a3c817000f56be4e",
      "4fee7274c1324f6d8a458e6f4be0f316",
      "90f2803b1bbf4713883c02a77d31f2a8",
      "0f338202b71b487da121d5cc71c11f71",
      "72daf58ce5fe4d8fbef3db1ea31adc7a",
      "5c30f5a4d1b04ecab5fa2deb07f40dde",
      "05ac5103ad4444da974db3ff279ac8c3",
      "58dcb33488194b56ab97d08324379506",
      "3ab88353d533405e9ed2610abe02f67f",
      "667c64ad1174439dad15ef89f9727d2e",
      "fcb9c4ac38274241aabb9d5b2db04889",
      "43ae4392910044219c5e1477ed0b6e2f",
      "8468570cda5d47b39de7bcab219746a4",
      "71ed0200dfee495bad14a6396238e60c",
      "b9795b7da5bd4995bed9bf89553787e8",
      "624140d78983404e9383fc3a2e15273a",
      "2fbf41be6ba146f88dd5356d8cbf988b",
      "83667f5bc0904965bf57d545692cdc3a",
      "b1aec841bc324c8ca5bd5f6af8c90c34",
      "960bffa9117640929f38385ed4318116",
      "6a178a6ce37e4303b3b8219af5268e39",
      "a5370a240b6247af90ef4ee802b6142c",
      "243279001b5f4c50a01699f31589e577",
      "e744dcb2eb964dc890ea4f11475a2490",
      "1ff4706d34d0413eb5cfc54b78bfa5eb",
      "1d157c441d6649cdb1e85eabe5eac667",
      "055844052d48453aaa9f6f56e4a613df",
      "9985fa1f2b294c3da7837c7af61cb0d9",
      "7311eaf8ae2f4f358bfc556547316935",
      "580d5dbfb13d4472904e5bbf753698f1",
      "8d3bbdf3b8c14a639c9fcf01573aba87",
      "dc8153b32caf44679a5ce4e346537ad0",
      "c9f32c5d59414dfaa97c2ab27213af31",
      "09bd8a2f02f24c6ebdea0068529b6eae",
      "bf402f8564ce4af3b06ed28e462cb563",
      "86a1da7deba146de8f155c8c872962ae",
      "85d0fad0e068475abc2e558f230d7390",
      "8d460a12e2b84aeba2d907a8ffb6c6b9",
      "2836b1d043fe405bb32e1e2dfe50a1b3",
      "7d531aa1dd874273bef2d7acc3294555",
      "64c12dc666164191ad578b091d91c57d",
      "81f0df27a7224685980693b9cc763c12",
      "bc0436d8b7f5475daac3bb3dfb573996",
      "450f79fef25d4389971cbd2415a585de",
      "0b62092c94fc44ab8ce2261ae762f730",
      "1e712aaac40942b8adabdc575edebc6e",
      "e4da19106e0d4d95b82dc86421c87987",
      "bc75f96d06d748b5b8e1a93ca86dfd56",
      "b56028e601834e94b2a468ab1b8c1a5c",
      "9add82f4792543c59090065c9a8d3080",
      "d128110cf2414515b4ee27b7dc3ac493",
      "60a3ad3b80d8450abc792fd1adf7af75",
      "9332a87a5de1454e8787a1facf551b2d",
      "c0695784ada7403c9fcae8b0776ba3e7",
      "556533426c85419386eae0bdc1c4eeff",
      "116c24b113da49289e1aaa0a9428ed6e",
      "cff465d1093c467bba55445cc6f3dc64",
      "462a816e1db641f2be080fa740341a3c",
      "ff30e831bb06484b87d240cff45f62aa",
      "e888e520f06f4535963b26ab042fb773",
      "cc9ef741e06348fc9c28afe467918d01",
      "e7cc8424f66747a49d4cdcf98094e86e",
      "a2198f5805da496da737c6284fbd5d94",
      "1629b7ef627c4210aaa178b95f769cf2",
      "673340c3295443b5aa181be4ab44b882",
      "eb33c422ae6b45868cd97f51b123dca4",
      "a1c8e853316c4a73b5329d56cf7d598e",
      "34087cc4fb2e48b5855ccf257a31e6fa",
      "f6226923a60d43b7acec111ba53fa0bc",
      "c3a9a5cd59ac42b0b7c5196cdb1fc9cc",
      "e925de949e664642b48e87a9d34792e5",
      "2097e36a9d8d47578c987fa6fb9a2051",
      "8328e39e68654149b17c5dbbe4617a6a",
      "daaea6e794d24bb7a991b7441e464a93",
      "000416945a104bc58a85e2ac741719bb",
      "a185890b28604bc5a69896f647708686",
      "902b1296c51948bfb98685691179b801",
      "fdb293d229c24de59406b057134838d1",
      "08cba31c947c43359cab68bc2e149db7",
      "6705086a05fa44a1ba8e41c068da683f",
      "20398a02935f4192bbc9bed82545fd49",
      "474f824db3ad4e49a8664bebe8bc1d1c",
      "c05f1383b48547299486161160e06ae8",
      "a121169158334f44999ada850bff956a",
      "b2b3a5dc83b640b2b0e29179ddbd66ae",
      "0fb0959a687e4d05964ae3d085427efb",
      "b4a9e942bea142608e738f8aa28ebfed",
      "0ea75431cb4840d7a9586f70a98e8440",
      "ca4e044c869343d5b4eb6ba41d561f1d",
      "56d7b24fc12b4c988fa48c6929bd5db4",
      "59ddc76ee0ac414d9c5f011f5d78126d",
      "1e876c85337f4230847d7bc22661e572",
      "b29fe036132b4bcf8be2fbbfee39bf24",
      "ca68b3b60e9449778db89e8c3c46d350",
      "bf196f56ce984baca0508c304f52b75c",
      "10b36621a8d7433a84508edf1e137957",
      "b6292d3a5e704eca9f1d87c5eabf86fc",
      "cb0b8145e5a84f7ebfaae043540ebdaf",
      "2640dec871dc44cfb2ad7464cd6c4388",
      "d09a8136b69248028a8b05beb511f584",
      "d4aaa9d0dd0b464aa0c89f989961b623",
      "fb8d39b64387477a9d5d8d5b9fe5458d",
      "886bf3b664b7446ea71faecd44404a70",
      "a82b0efaad184f259ad0118bd9402361",
      "3e3a9bf1772e4d6fa374396818c20213"
     ]
    },
    "id": "g2Qk-8nku63M",
    "outputId": "07d9cef2-b1b3-4f47-d810-52acf5b45431"
   },
   "outputs": [
    {
     "data": {
      "application/vnd.jupyter.widget-view+json": {
       "model_id": "ac246f4d889c47b9b5b1b3849e7c07c2",
       "version_major": 2,
       "version_minor": 0
      },
      "text/plain": [
       "Uploading the dataset shards:   0%|          | 0/2 [00:00<?, ? shards/s]"
      ]
     },
     "metadata": {},
     "output_type": "display_data"
    },
    {
     "data": {
      "application/vnd.jupyter.widget-view+json": {
       "model_id": "5e05a1564d8b44849131331607d27123",
       "version_major": 2,
       "version_minor": 0
      },
      "text/plain": [
       "Creating parquet from Arrow format:   0%|          | 0/1200 [00:00<?, ?ba/s]"
      ]
     },
     "metadata": {},
     "output_type": "display_data"
    },
    {
     "data": {
      "application/vnd.jupyter.widget-view+json": {
       "model_id": "85be10c2a2e64400abd44a932a948dbb",
       "version_major": 2,
       "version_minor": 0
      },
      "text/plain": [
       "Processing Files (0 / 0)      : |          |  0.00B /  0.00B            "
      ]
     },
     "metadata": {},
     "output_type": "display_data"
    },
    {
     "data": {
      "application/vnd.jupyter.widget-view+json": {
       "model_id": "556e66fb3cc047b4b757ec100574065b",
       "version_major": 2,
       "version_minor": 0
      },
      "text/plain": [
       "New Data Upload               : |          |  0.00B /  0.00B            "
      ]
     },
     "metadata": {},
     "output_type": "display_data"
    },
    {
     "data": {
      "application/vnd.jupyter.widget-view+json": {
       "model_id": "8265c0a86ca147919635a4b3346840cf",
       "version_major": 2,
       "version_minor": 0
      },
      "text/plain": [
       "                              :   3%|3         | 8.29MB /  247MB            "
      ]
     },
     "metadata": {},
     "output_type": "display_data"
    },
    {
     "data": {
      "application/vnd.jupyter.widget-view+json": {
       "model_id": "f5207909c18a49b4944116452bcbe2f8",
       "version_major": 2,
       "version_minor": 0
      },
      "text/plain": [
       "Creating parquet from Arrow format:   0%|          | 0/1200 [00:00<?, ?ba/s]"
      ]
     },
     "metadata": {},
     "output_type": "display_data"
    },
    {
     "data": {
      "application/vnd.jupyter.widget-view+json": {
       "model_id": "fc5e6e8fda844a4cbccfc25ca8340793",
       "version_major": 2,
       "version_minor": 0
      },
      "text/plain": [
       "Processing Files (0 / 0)      : |          |  0.00B /  0.00B            "
      ]
     },
     "metadata": {},
     "output_type": "display_data"
    },
    {
     "data": {
      "application/vnd.jupyter.widget-view+json": {
       "model_id": "4f9a17d9e1d34edcb15d6ec0ba3aaa79",
       "version_major": 2,
       "version_minor": 0
      },
      "text/plain": [
       "New Data Upload               : |          |  0.00B /  0.00B            "
      ]
     },
     "metadata": {},
     "output_type": "display_data"
    },
    {
     "data": {
      "application/vnd.jupyter.widget-view+json": {
       "model_id": "47169328f5a544e994aaacd389921d9c",
       "version_major": 2,
       "version_minor": 0
      },
      "text/plain": [
       "                              :   1%|1         | 3.67MB /  283MB            "
      ]
     },
     "metadata": {},
     "output_type": "display_data"
    },
    {
     "data": {
      "application/vnd.jupyter.widget-view+json": {
       "model_id": "05ac5103ad4444da974db3ff279ac8c3",
       "version_major": 2,
       "version_minor": 0
      },
      "text/plain": [
       "Uploading the dataset shards:   0%|          | 0/2 [00:00<?, ? shards/s]"
      ]
     },
     "metadata": {},
     "output_type": "display_data"
    },
    {
     "data": {
      "application/vnd.jupyter.widget-view+json": {
       "model_id": "83667f5bc0904965bf57d545692cdc3a",
       "version_major": 2,
       "version_minor": 0
      },
      "text/plain": [
       "Creating parquet from Arrow format:   0%|          | 0/892 [00:00<?, ?ba/s]"
      ]
     },
     "metadata": {},
     "output_type": "display_data"
    },
    {
     "data": {
      "application/vnd.jupyter.widget-view+json": {
       "model_id": "7311eaf8ae2f4f358bfc556547316935",
       "version_major": 2,
       "version_minor": 0
      },
      "text/plain": [
       "Processing Files (0 / 0)      : |          |  0.00B /  0.00B            "
      ]
     },
     "metadata": {},
     "output_type": "display_data"
    },
    {
     "data": {
      "application/vnd.jupyter.widget-view+json": {
       "model_id": "7d531aa1dd874273bef2d7acc3294555",
       "version_major": 2,
       "version_minor": 0
      },
      "text/plain": [
       "New Data Upload               : |          |  0.00B /  0.00B            "
      ]
     },
     "metadata": {},
     "output_type": "display_data"
    },
    {
     "data": {
      "application/vnd.jupyter.widget-view+json": {
       "model_id": "d128110cf2414515b4ee27b7dc3ac493",
       "version_major": 2,
       "version_minor": 0
      },
      "text/plain": [
       "                              :   2%|1         | 3.67MB /  184MB            "
      ]
     },
     "metadata": {},
     "output_type": "display_data"
    },
    {
     "data": {
      "application/vnd.jupyter.widget-view+json": {
       "model_id": "e7cc8424f66747a49d4cdcf98094e86e",
       "version_major": 2,
       "version_minor": 0
      },
      "text/plain": [
       "Creating parquet from Arrow format:   0%|          | 0/892 [00:00<?, ?ba/s]"
      ]
     },
     "metadata": {},
     "output_type": "display_data"
    },
    {
     "data": {
      "application/vnd.jupyter.widget-view+json": {
       "model_id": "8328e39e68654149b17c5dbbe4617a6a",
       "version_major": 2,
       "version_minor": 0
      },
      "text/plain": [
       "Processing Files (0 / 0)      : |          |  0.00B /  0.00B            "
      ]
     },
     "metadata": {},
     "output_type": "display_data"
    },
    {
     "data": {
      "application/vnd.jupyter.widget-view+json": {
       "model_id": "a121169158334f44999ada850bff956a",
       "version_major": 2,
       "version_minor": 0
      },
      "text/plain": [
       "New Data Upload               : |          |  0.00B /  0.00B            "
      ]
     },
     "metadata": {},
     "output_type": "display_data"
    },
    {
     "data": {
      "application/vnd.jupyter.widget-view+json": {
       "model_id": "bf196f56ce984baca0508c304f52b75c",
       "version_major": 2,
       "version_minor": 0
      },
      "text/plain": [
       "                              :   2%|2         | 3.67MB /  178MB            "
      ]
     },
     "metadata": {},
     "output_type": "display_data"
    },
    {
     "data": {
      "application/vnd.google.colaboratory.intrinsic+json": {
       "type": "string"
      },
      "text/plain": [
       "CommitInfo(commit_url='https://huggingface.co/datasets/moatazhamza194/gb_train_mask/commit/4c6ca4b82aa3f6256535e02f785e86e9cd372b97', commit_message='Upload dataset', commit_description='', oid='4c6ca4b82aa3f6256535e02f785e86e9cd372b97', pr_url=None, repo_url=RepoUrl('https://huggingface.co/datasets/moatazhamza194/gb_train_mask', endpoint='https://huggingface.co', repo_type='dataset', repo_id='moatazhamza194/gb_train_mask'), pr_revision=None, pr_num=None)"
      ]
     },
     "execution_count": 17,
     "metadata": {},
     "output_type": "execute_result"
    }
   ],
   "source": [
    "gender_swap_dataset.push_to_hub(\"moatazhamza194/gb_train_swap\")\n",
    "gender_mask_dataset.push_to_hub(\"moatazhamza194/gb_train_mask\")"
   ]
  },
  {
   "cell_type": "code",
   "execution_count": 18,
   "metadata": {
    "colab": {
     "base_uri": "https://localhost:8080/"
    },
    "id": "K6zff6Asw9Ia",
    "outputId": "d9257806-d961-43e0-87fc-d31bf9ec2857"
   },
   "outputs": [
    {
     "data": {
      "text/plain": [
       "2398586"
      ]
     },
     "execution_count": 18,
     "metadata": {},
     "output_type": "execute_result"
    }
   ],
   "source": [
    "len(gender_swap_data)"
   ]
  },
  {
   "cell_type": "code",
   "execution_count": 19,
   "metadata": {
    "colab": {
     "base_uri": "https://localhost:8080/"
    },
    "id": "7LIpqkksxIeo",
    "outputId": "a66774ca-2eb3-4c52-ed01-ee96199cca25"
   },
   "outputs": [
    {
     "data": {
      "text/plain": [
       "1782961"
      ]
     },
     "execution_count": 19,
     "metadata": {},
     "output_type": "execute_result"
    }
   ],
   "source": [
    "len(gender_mask_data)"
   ]
  }
 ],
 "metadata": {
  "accelerator": "GPU",
  "colab": {
   "gpuType": "A100",
   "provenance": []
  },
  "kernelspec": {
   "display_name": "Python 3",
   "name": "python3"
  },
  "language_info": {
   "name": "python"
  }
 },
 "nbformat": 4,
 "nbformat_minor": 0
}
